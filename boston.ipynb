{
  "nbformat": 4,
  "nbformat_minor": 0,
  "metadata": {
    "colab": {
      "provenance": [],
      "authorship_tag": "ABX9TyPfi3gRy+D3Y4BfGK5tAzbE",
      "include_colab_link": true
    },
    "kernelspec": {
      "name": "python3",
      "display_name": "Python 3"
    },
    "language_info": {
      "name": "python"
    }
  },
  "cells": [
    {
      "cell_type": "markdown",
      "metadata": {
        "id": "view-in-github",
        "colab_type": "text"
      },
      "source": [
        "<a href=\"https://colab.research.google.com/github/ShivaShirsath/dl/blob/master/boston.ipynb\" target=\"_parent\"><img src=\"https://colab.research.google.com/assets/colab-badge.svg\" alt=\"Open In Colab\"/></a>"
      ]
    },
    {
      "cell_type": "code",
      "execution_count": 1,
      "metadata": {
        "id": "UEPn3CnKOaEs"
      },
      "outputs": [],
      "source": [
        "import tensorflow as tf\n",
        "from tensorflow.keras.datasets import boston_housing\n",
        "from sklearn import preprocessing"
      ]
    },
    {
      "cell_type": "code",
      "source": [
        "(train_x, train_y),(test_x, test_y)=boston_housing.load_data()"
      ],
      "metadata": {
        "id": "jqnOO8NmOjoa"
      },
      "execution_count": 2,
      "outputs": []
    },
    {
      "cell_type": "code",
      "source": [
        "print(\n",
        "  \"       Train Shape :\", train_x.shape,\n",
        "  \"\\n        Test Shape :\", test_x.shape,\n",
        "  \"\\nActual Train Shape :\", train_y.shape,\n",
        "  \"\\nActual  Test Shape :\", test_y.shape\n",
        ")"
      ],
      "metadata": {
        "colab": {
          "base_uri": "https://localhost:8080/"
        },
        "id": "XNGkaXdZOkuI",
        "outputId": "84435e8e-0c0c-49b9-97d8-cde75402223e"
      },
      "execution_count": 3,
      "outputs": [
        {
          "output_type": "stream",
          "name": "stdout",
          "text": [
            "       Train Shape : (404, 13) \n",
            "        Test Shape : (102, 13) \n",
            "Actual Train Shape : (404,) \n",
            "Actual  Test Shape : (102,)\n"
          ]
        }
      ]
    },
    {
      "cell_type": "code",
      "source": [
        "print(train_x[0], train_y[0], sep=\"\\n\")"
      ],
      "metadata": {
        "colab": {
          "base_uri": "https://localhost:8080/"
        },
        "id": "VYMDE6KQOtyI",
        "outputId": "86ebe330-ce10-402a-9072-ce4aa92c590a"
      },
      "execution_count": 4,
      "outputs": [
        {
          "output_type": "stream",
          "name": "stdout",
          "text": [
            "[  1.23247   0.        8.14      0.        0.538     6.142    91.7\n",
            "   3.9769    4.      307.       21.      396.9      18.72   ]\n",
            "15.2\n"
          ]
        }
      ]
    },
    {
      "cell_type": "code",
      "source": [
        "train_x=preprocessing.normalize(train_x)\n",
        "test_x=preprocessing.normalize(test_x)"
      ],
      "metadata": {
        "id": "3sypHDVRWaI3"
      },
      "execution_count": 5,
      "outputs": []
    },
    {
      "cell_type": "code",
      "source": [
        "print(train_x[0], train_y[0], sep=\"\\n\")"
      ],
      "metadata": {
        "colab": {
          "base_uri": "https://localhost:8080/"
        },
        "id": "-fMwtEkMW6Jf",
        "outputId": "ea33641f-3e43-4a3b-b676-dc6dfa551c83"
      },
      "execution_count": 6,
      "outputs": [
        {
          "output_type": "stream",
          "name": "stdout",
          "text": [
            "[0.0024119  0.         0.01592969 0.         0.00105285 0.01201967\n",
            " 0.17945359 0.00778265 0.00782786 0.6007879  0.04109624 0.77671895\n",
            " 0.03663436]\n",
            "15.2\n"
          ]
        }
      ]
    },
    {
      "cell_type": "code",
      "source": [
        "from tensorflow.keras.models import Sequential\n",
        "from tensorflow.keras.layers import *"
      ],
      "metadata": {
        "id": "QI36wcpCXAcf"
      },
      "execution_count": 7,
      "outputs": []
    },
    {
      "cell_type": "code",
      "source": [
        "model = Sequential([\n",
        "  Dense(128, activation='relu', input_shape=(train_x[0].shape)),\n",
        "  Dense(64, activation='relu'),\n",
        "  Dense(32, activation='relu'),\n",
        "  Dense(1)\n",
        "])\n",
        "model.compile(\n",
        "  optimizer='rmsprop',\n",
        "  loss='mse',\n",
        "  metrics=['mae']\n",
        ")"
      ],
      "metadata": {
        "id": "A4sV0LwiXYi4"
      },
      "execution_count": 8,
      "outputs": []
    },
    {
      "cell_type": "code",
      "source": [
        "history = model.fit(\n",
        "  x=train_x, y=train_y,\n",
        "  epochs=100, batch_size=1, \n",
        "  verbose=1,\n",
        "  validation_data=(test_x, test_y)\n",
        ")"
      ],
      "metadata": {
        "colab": {
          "base_uri": "https://localhost:8080/"
        },
        "id": "2g5WvvOxYk7m",
        "outputId": "7d0390a0-75f2-456a-daaf-697f14c54af0"
      },
      "execution_count": 9,
      "outputs": [
        {
          "output_type": "stream",
          "name": "stdout",
          "text": [
            "Epoch 1/100\n",
            "404/404 [==============================] - 2s 4ms/step - loss: 121.8031 - mae: 7.9236 - val_loss: 77.5545 - val_mae: 7.0489\n",
            "Epoch 2/100\n",
            "404/404 [==============================] - 1s 2ms/step - loss: 67.5814 - mae: 5.7959 - val_loss: 59.3409 - val_mae: 5.7844\n",
            "Epoch 3/100\n",
            "404/404 [==============================] - 1s 3ms/step - loss: 63.8338 - mae: 5.5746 - val_loss: 55.2816 - val_mae: 5.5088\n",
            "Epoch 4/100\n",
            "404/404 [==============================] - 1s 2ms/step - loss: 59.5377 - mae: 5.3585 - val_loss: 73.7903 - val_mae: 6.0782\n",
            "Epoch 5/100\n",
            "404/404 [==============================] - 1s 3ms/step - loss: 58.7832 - mae: 5.2596 - val_loss: 54.9481 - val_mae: 5.6323\n",
            "Epoch 6/100\n",
            "404/404 [==============================] - 2s 6ms/step - loss: 55.7194 - mae: 5.2133 - val_loss: 51.5527 - val_mae: 5.2195\n",
            "Epoch 7/100\n",
            "404/404 [==============================] - 4s 10ms/step - loss: 54.7828 - mae: 5.0445 - val_loss: 51.7582 - val_mae: 5.4339\n",
            "Epoch 8/100\n",
            "404/404 [==============================] - 2s 6ms/step - loss: 53.8406 - mae: 4.9417 - val_loss: 48.5745 - val_mae: 5.0085\n",
            "Epoch 9/100\n",
            "404/404 [==============================] - 2s 4ms/step - loss: 52.1149 - mae: 4.8848 - val_loss: 52.4386 - val_mae: 5.0696\n",
            "Epoch 10/100\n",
            "404/404 [==============================] - 1s 3ms/step - loss: 49.6855 - mae: 4.6745 - val_loss: 48.1816 - val_mae: 5.1980\n",
            "Epoch 11/100\n",
            "404/404 [==============================] - 1s 3ms/step - loss: 45.6076 - mae: 4.6303 - val_loss: 63.6386 - val_mae: 5.6290\n",
            "Epoch 12/100\n",
            "404/404 [==============================] - 1s 3ms/step - loss: 45.5531 - mae: 4.5983 - val_loss: 48.9099 - val_mae: 5.4662\n",
            "Epoch 13/100\n",
            "404/404 [==============================] - 1s 3ms/step - loss: 43.0944 - mae: 4.5668 - val_loss: 44.6335 - val_mae: 4.6607\n",
            "Epoch 14/100\n",
            "404/404 [==============================] - 1s 3ms/step - loss: 42.5000 - mae: 4.4669 - val_loss: 38.9965 - val_mae: 4.4867\n",
            "Epoch 15/100\n",
            "404/404 [==============================] - 1s 3ms/step - loss: 40.7948 - mae: 4.3032 - val_loss: 39.4644 - val_mae: 4.3654\n",
            "Epoch 16/100\n",
            "404/404 [==============================] - 2s 4ms/step - loss: 40.5080 - mae: 4.4443 - val_loss: 36.0439 - val_mae: 4.2400\n",
            "Epoch 17/100\n",
            "404/404 [==============================] - 1s 2ms/step - loss: 38.2913 - mae: 4.2586 - val_loss: 34.7376 - val_mae: 4.1636\n",
            "Epoch 18/100\n",
            "404/404 [==============================] - 1s 2ms/step - loss: 37.4168 - mae: 4.3252 - val_loss: 34.5663 - val_mae: 4.2241\n",
            "Epoch 19/100\n",
            "404/404 [==============================] - 1s 3ms/step - loss: 36.8633 - mae: 4.2730 - val_loss: 32.7044 - val_mae: 4.0451\n",
            "Epoch 20/100\n",
            "404/404 [==============================] - 1s 3ms/step - loss: 36.3090 - mae: 4.2934 - val_loss: 35.3419 - val_mae: 4.0995\n",
            "Epoch 21/100\n",
            "404/404 [==============================] - 1s 4ms/step - loss: 35.8915 - mae: 4.0922 - val_loss: 31.8085 - val_mae: 3.9350\n",
            "Epoch 22/100\n",
            "404/404 [==============================] - 1s 3ms/step - loss: 34.3211 - mae: 4.1615 - val_loss: 31.6998 - val_mae: 3.9755\n",
            "Epoch 23/100\n",
            "404/404 [==============================] - 1s 3ms/step - loss: 35.0504 - mae: 4.0639 - val_loss: 30.6752 - val_mae: 3.9913\n",
            "Epoch 24/100\n",
            "404/404 [==============================] - 1s 4ms/step - loss: 33.3151 - mae: 4.0947 - val_loss: 34.4840 - val_mae: 4.5756\n",
            "Epoch 25/100\n",
            "404/404 [==============================] - 2s 5ms/step - loss: 32.7412 - mae: 4.1336 - val_loss: 31.5550 - val_mae: 3.9168\n",
            "Epoch 26/100\n",
            "404/404 [==============================] - 2s 4ms/step - loss: 32.3025 - mae: 4.0120 - val_loss: 39.3419 - val_mae: 4.3635\n",
            "Epoch 27/100\n",
            "404/404 [==============================] - 1s 3ms/step - loss: 31.3231 - mae: 3.9346 - val_loss: 38.0359 - val_mae: 4.2267\n",
            "Epoch 28/100\n",
            "404/404 [==============================] - 1s 2ms/step - loss: 31.9309 - mae: 3.9073 - val_loss: 27.7492 - val_mae: 3.8539\n",
            "Epoch 29/100\n",
            "404/404 [==============================] - 1s 3ms/step - loss: 30.5524 - mae: 3.9585 - val_loss: 29.0086 - val_mae: 3.7936\n",
            "Epoch 30/100\n",
            "404/404 [==============================] - 1s 3ms/step - loss: 31.0099 - mae: 3.8489 - val_loss: 29.4631 - val_mae: 4.2273\n",
            "Epoch 31/100\n",
            "404/404 [==============================] - 1s 3ms/step - loss: 29.3982 - mae: 3.8539 - val_loss: 39.4684 - val_mae: 4.4835\n",
            "Epoch 32/100\n",
            "404/404 [==============================] - 1s 2ms/step - loss: 29.2240 - mae: 3.7257 - val_loss: 39.5413 - val_mae: 4.4398\n",
            "Epoch 33/100\n",
            "404/404 [==============================] - 1s 3ms/step - loss: 27.8970 - mae: 3.7485 - val_loss: 29.3925 - val_mae: 4.1890\n",
            "Epoch 34/100\n",
            "404/404 [==============================] - 1s 3ms/step - loss: 28.0120 - mae: 3.7142 - val_loss: 28.3131 - val_mae: 4.1317\n",
            "Epoch 35/100\n",
            "404/404 [==============================] - 2s 5ms/step - loss: 26.1385 - mae: 3.6396 - val_loss: 32.7475 - val_mae: 3.9937\n",
            "Epoch 36/100\n",
            "404/404 [==============================] - 2s 4ms/step - loss: 28.6711 - mae: 3.7542 - val_loss: 26.6445 - val_mae: 3.6634\n",
            "Epoch 37/100\n",
            "404/404 [==============================] - 1s 3ms/step - loss: 25.0425 - mae: 3.6001 - val_loss: 29.4091 - val_mae: 3.8203\n",
            "Epoch 38/100\n",
            "404/404 [==============================] - 1s 4ms/step - loss: 25.2196 - mae: 3.7035 - val_loss: 28.7233 - val_mae: 3.7966\n",
            "Epoch 39/100\n",
            "404/404 [==============================] - 1s 3ms/step - loss: 24.6721 - mae: 3.4828 - val_loss: 27.4617 - val_mae: 3.7325\n",
            "Epoch 40/100\n",
            "404/404 [==============================] - 1s 3ms/step - loss: 24.0110 - mae: 3.5077 - val_loss: 25.6919 - val_mae: 3.8509\n",
            "Epoch 41/100\n",
            "404/404 [==============================] - 1s 2ms/step - loss: 22.9597 - mae: 3.4630 - val_loss: 33.2035 - val_mae: 4.0887\n",
            "Epoch 42/100\n",
            "404/404 [==============================] - 1s 2ms/step - loss: 22.2514 - mae: 3.3865 - val_loss: 25.6101 - val_mae: 3.6357\n",
            "Epoch 43/100\n",
            "404/404 [==============================] - 1s 3ms/step - loss: 23.1155 - mae: 3.4350 - val_loss: 24.6926 - val_mae: 3.7127\n",
            "Epoch 44/100\n",
            "404/404 [==============================] - 1s 3ms/step - loss: 22.7237 - mae: 3.4153 - val_loss: 26.7537 - val_mae: 3.8444\n",
            "Epoch 45/100\n",
            "404/404 [==============================] - 2s 4ms/step - loss: 23.1521 - mae: 3.4216 - val_loss: 34.2002 - val_mae: 4.2183\n",
            "Epoch 46/100\n",
            "404/404 [==============================] - 2s 4ms/step - loss: 21.1517 - mae: 3.2371 - val_loss: 25.8689 - val_mae: 3.8295\n",
            "Epoch 47/100\n",
            "404/404 [==============================] - 1s 2ms/step - loss: 21.2368 - mae: 3.2208 - val_loss: 40.5428 - val_mae: 4.4720\n",
            "Epoch 48/100\n",
            "404/404 [==============================] - 1s 2ms/step - loss: 22.5164 - mae: 3.3945 - val_loss: 32.6797 - val_mae: 4.1530\n",
            "Epoch 49/100\n",
            "404/404 [==============================] - 1s 2ms/step - loss: 20.0221 - mae: 3.2091 - val_loss: 33.9966 - val_mae: 4.0836\n",
            "Epoch 50/100\n",
            "404/404 [==============================] - 1s 2ms/step - loss: 20.9865 - mae: 3.2414 - val_loss: 27.2153 - val_mae: 3.7144\n",
            "Epoch 51/100\n",
            "404/404 [==============================] - 1s 3ms/step - loss: 19.6817 - mae: 3.1437 - val_loss: 37.6033 - val_mae: 4.3830\n",
            "Epoch 52/100\n",
            "404/404 [==============================] - 1s 3ms/step - loss: 20.1140 - mae: 3.2633 - val_loss: 28.2101 - val_mae: 3.7711\n",
            "Epoch 53/100\n",
            "404/404 [==============================] - 1s 2ms/step - loss: 19.7178 - mae: 3.2191 - val_loss: 29.0656 - val_mae: 3.8330\n",
            "Epoch 54/100\n",
            "404/404 [==============================] - 1s 2ms/step - loss: 20.1853 - mae: 3.1588 - val_loss: 28.8962 - val_mae: 3.8422\n",
            "Epoch 55/100\n",
            "404/404 [==============================] - 1s 3ms/step - loss: 19.6637 - mae: 3.2051 - val_loss: 33.2977 - val_mae: 4.1925\n",
            "Epoch 56/100\n",
            "404/404 [==============================] - 1s 3ms/step - loss: 19.3301 - mae: 3.1387 - val_loss: 28.6428 - val_mae: 3.9779\n",
            "Epoch 57/100\n",
            "404/404 [==============================] - 2s 4ms/step - loss: 17.8266 - mae: 3.0975 - val_loss: 29.8694 - val_mae: 4.0713\n",
            "Epoch 58/100\n",
            "404/404 [==============================] - 1s 3ms/step - loss: 20.2422 - mae: 3.1847 - val_loss: 27.2564 - val_mae: 3.6046\n",
            "Epoch 59/100\n",
            "404/404 [==============================] - 1s 2ms/step - loss: 19.4660 - mae: 3.1407 - val_loss: 32.8708 - val_mae: 4.1666\n",
            "Epoch 60/100\n",
            "404/404 [==============================] - 1s 2ms/step - loss: 17.4568 - mae: 3.0766 - val_loss: 30.6989 - val_mae: 3.8988\n",
            "Epoch 61/100\n",
            "404/404 [==============================] - 1s 3ms/step - loss: 19.3302 - mae: 3.1553 - val_loss: 29.1936 - val_mae: 3.7044\n",
            "Epoch 62/100\n",
            "404/404 [==============================] - 1s 2ms/step - loss: 18.3870 - mae: 3.0713 - val_loss: 30.8662 - val_mae: 3.8883\n",
            "Epoch 63/100\n",
            "404/404 [==============================] - 1s 2ms/step - loss: 17.6659 - mae: 2.9985 - val_loss: 32.7640 - val_mae: 4.0197\n",
            "Epoch 64/100\n",
            "404/404 [==============================] - 1s 2ms/step - loss: 19.0241 - mae: 3.0789 - val_loss: 29.8147 - val_mae: 3.8848\n",
            "Epoch 65/100\n",
            "404/404 [==============================] - 1s 3ms/step - loss: 20.0625 - mae: 3.1541 - val_loss: 30.3492 - val_mae: 3.9165\n",
            "Epoch 66/100\n",
            "404/404 [==============================] - 1s 2ms/step - loss: 17.3598 - mae: 3.0771 - val_loss: 27.3031 - val_mae: 3.6507\n",
            "Epoch 67/100\n",
            "404/404 [==============================] - 1s 2ms/step - loss: 17.8926 - mae: 3.0583 - val_loss: 28.1224 - val_mae: 3.6349\n",
            "Epoch 68/100\n",
            "404/404 [==============================] - 1s 3ms/step - loss: 18.9530 - mae: 3.1162 - val_loss: 30.8561 - val_mae: 3.8185\n",
            "Epoch 69/100\n",
            "404/404 [==============================] - 2s 4ms/step - loss: 17.9193 - mae: 3.0141 - val_loss: 36.6543 - val_mae: 4.2184\n",
            "Epoch 70/100\n",
            "404/404 [==============================] - 2s 4ms/step - loss: 17.4051 - mae: 3.0113 - val_loss: 33.7165 - val_mae: 3.9633\n",
            "Epoch 71/100\n",
            "404/404 [==============================] - 2s 4ms/step - loss: 18.8567 - mae: 3.0720 - val_loss: 26.8622 - val_mae: 3.5871\n",
            "Epoch 72/100\n",
            "404/404 [==============================] - 1s 3ms/step - loss: 18.4460 - mae: 3.0625 - val_loss: 26.4496 - val_mae: 3.7004\n",
            "Epoch 73/100\n",
            "404/404 [==============================] - 1s 2ms/step - loss: 18.1622 - mae: 3.0558 - val_loss: 30.4473 - val_mae: 3.7407\n",
            "Epoch 74/100\n",
            "404/404 [==============================] - 2s 5ms/step - loss: 17.8321 - mae: 2.9967 - val_loss: 38.7970 - val_mae: 4.5642\n",
            "Epoch 75/100\n",
            "404/404 [==============================] - 1s 3ms/step - loss: 18.0407 - mae: 3.0935 - val_loss: 28.4402 - val_mae: 3.6263\n",
            "Epoch 76/100\n",
            "404/404 [==============================] - 1s 3ms/step - loss: 17.0043 - mae: 3.0580 - val_loss: 30.0075 - val_mae: 3.7560\n",
            "Epoch 77/100\n",
            "404/404 [==============================] - 1s 3ms/step - loss: 17.9868 - mae: 3.0245 - val_loss: 31.1439 - val_mae: 3.8216\n",
            "Epoch 78/100\n",
            "404/404 [==============================] - 2s 5ms/step - loss: 17.5998 - mae: 3.0687 - val_loss: 28.4746 - val_mae: 3.7022\n",
            "Epoch 79/100\n",
            "404/404 [==============================] - 1s 3ms/step - loss: 16.8861 - mae: 2.9699 - val_loss: 31.5060 - val_mae: 3.7803\n",
            "Epoch 80/100\n",
            "404/404 [==============================] - 1s 2ms/step - loss: 17.8401 - mae: 2.9718 - val_loss: 30.6799 - val_mae: 3.9150\n",
            "Epoch 81/100\n",
            "404/404 [==============================] - 1s 3ms/step - loss: 16.5480 - mae: 2.9190 - val_loss: 34.6321 - val_mae: 4.1335\n",
            "Epoch 82/100\n",
            "404/404 [==============================] - 1s 3ms/step - loss: 16.5956 - mae: 2.8797 - val_loss: 26.1675 - val_mae: 3.7213\n",
            "Epoch 83/100\n",
            "404/404 [==============================] - 1s 3ms/step - loss: 17.5219 - mae: 3.0053 - val_loss: 28.9259 - val_mae: 3.7366\n",
            "Epoch 84/100\n",
            "404/404 [==============================] - 1s 2ms/step - loss: 17.3749 - mae: 2.9437 - val_loss: 28.0460 - val_mae: 3.5552\n",
            "Epoch 85/100\n",
            "404/404 [==============================] - 1s 2ms/step - loss: 16.9507 - mae: 2.8728 - val_loss: 34.6659 - val_mae: 4.1373\n",
            "Epoch 86/100\n",
            "404/404 [==============================] - 1s 3ms/step - loss: 17.9657 - mae: 2.9509 - val_loss: 28.3025 - val_mae: 3.7075\n",
            "Epoch 87/100\n",
            "404/404 [==============================] - 1s 3ms/step - loss: 18.7937 - mae: 2.9989 - val_loss: 29.1747 - val_mae: 3.6753\n",
            "Epoch 88/100\n",
            "404/404 [==============================] - 1s 3ms/step - loss: 16.8216 - mae: 2.8381 - val_loss: 26.9892 - val_mae: 3.6506\n",
            "Epoch 89/100\n",
            "404/404 [==============================] - 1s 4ms/step - loss: 17.9502 - mae: 2.9361 - val_loss: 30.2874 - val_mae: 4.0595\n",
            "Epoch 90/100\n",
            "404/404 [==============================] - 1s 3ms/step - loss: 17.6626 - mae: 2.9679 - val_loss: 33.4932 - val_mae: 3.9201\n",
            "Epoch 91/100\n",
            "404/404 [==============================] - 2s 4ms/step - loss: 17.5804 - mae: 2.9392 - val_loss: 27.2809 - val_mae: 3.5003\n",
            "Epoch 92/100\n",
            "404/404 [==============================] - 1s 3ms/step - loss: 18.6836 - mae: 3.0622 - val_loss: 28.6187 - val_mae: 3.6473\n",
            "Epoch 93/100\n",
            "404/404 [==============================] - 1s 3ms/step - loss: 17.7873 - mae: 2.9247 - val_loss: 26.5720 - val_mae: 3.6975\n",
            "Epoch 94/100\n",
            "404/404 [==============================] - 1s 3ms/step - loss: 17.4503 - mae: 3.0044 - val_loss: 32.4597 - val_mae: 4.2066\n",
            "Epoch 95/100\n",
            "404/404 [==============================] - 1s 2ms/step - loss: 17.3045 - mae: 3.0395 - val_loss: 32.3933 - val_mae: 3.8384\n",
            "Epoch 96/100\n",
            "404/404 [==============================] - 1s 3ms/step - loss: 17.1662 - mae: 2.9765 - val_loss: 27.7269 - val_mae: 3.6182\n",
            "Epoch 97/100\n",
            "404/404 [==============================] - 1s 2ms/step - loss: 16.0002 - mae: 2.8639 - val_loss: 25.9788 - val_mae: 3.5006\n",
            "Epoch 98/100\n",
            "404/404 [==============================] - 1s 3ms/step - loss: 16.5039 - mae: 2.8399 - val_loss: 28.7929 - val_mae: 3.6342\n",
            "Epoch 99/100\n",
            "404/404 [==============================] - 2s 5ms/step - loss: 15.6982 - mae: 2.8709 - val_loss: 35.0550 - val_mae: 4.1122\n",
            "Epoch 100/100\n",
            "404/404 [==============================] - 1s 3ms/step - loss: 16.5777 - mae: 2.8691 - val_loss: 29.9420 - val_mae: 3.6810\n"
          ]
        }
      ]
    },
    {
      "cell_type": "code",
      "source": [
        "test_input=[[\n",
        "  8.65407330e-05,\n",
        "  0.00000000e+00, \n",
        "  1.13392175e-02,\n",
        "  0.00000000e-00,\n",
        "  1.12518247e-03,\n",
        "  1.31897603e-02,\n",
        "  7.53763011e-02,\n",
        "  1.30768051e-02,\n",
        "  1.09241016e-02,\n",
        "  4.89399752e-01,\n",
        "  4.41333705e-02,\n",
        "  8.67155186e-01,\n",
        "  1.75004108e-02\n",
        "]]\n",
        "print(\n",
        "  \"Actual Output : 21.1\",\n",
        "  \"\\nPredicted output :\", model.predict(test_input)\n",
        ")"
      ],
      "metadata": {
        "colab": {
          "base_uri": "https://localhost:8080/"
        },
        "id": "lSw5Zav6ZAqm",
        "outputId": "c14fb874-cbe9-4cf3-855e-39f746e73d18"
      },
      "execution_count": 10,
      "outputs": [
        {
          "output_type": "stream",
          "name": "stdout",
          "text": [
            "1/1 [==============================] - 0s 230ms/step\n",
            "Actual Output : 21.1 \n",
            "Predicted output : [[22.642511]]\n"
          ]
        }
      ]
    }
  ]
}