{
  "nbformat": 4,
  "nbformat_minor": 0,
  "metadata": {
    "colab": {
      "provenance": []
    },
    "kernelspec": {
      "name": "python3",
      "display_name": "Python 3"
    },
    "language_info": {
      "name": "python"
    }
  },
  "cells": [
    {
      "cell_type": "code",
      "execution_count": 1,
      "metadata": {
        "id": "UEPn3CnKOaEs"
      },
      "outputs": [],
      "source": [
        "import tensorflow as tf\n",
        "from tensorflow.keras.datasets import boston_housing\n",
        "from sklearn import preprocessing"
      ]
    },
    {
      "cell_type": "code",
      "source": [
        "(train_x, train_y),(test_x, test_y)=boston_housing.load_data()"
      ],
      "metadata": {
        "id": "jqnOO8NmOjoa"
      },
      "execution_count": 2,
      "outputs": []
    },
    {
      "cell_type": "code",
      "source": [
        "print(\"       Train Shape :\", train_x.shape)\n",
        "print(\"        Test Shape :\", test_x.shape)\n",
        "print(\"Actual Train Shape :\", train_y.shape)\n",
        "print(\"Actual  Test Shape :\", test_y.shape)"
      ],
      "metadata": {
        "colab": {
          "base_uri": "https://localhost:8080/"
        },
        "id": "XNGkaXdZOkuI",
        "outputId": "6a58aec0-d1fc-4e39-f30b-1d6d33fdb723"
      },
      "execution_count": 3,
      "outputs": [
        {
          "output_type": "stream",
          "name": "stdout",
          "text": [
            "       Train Shape : (404, 13)\n",
            "        Test Shape : (102, 13)\n",
            "Actual Train Shape : (404,)\n",
            "Actual  Test Shape : (102,)\n"
          ]
        }
      ]
    },
    {
      "cell_type": "code",
      "source": [
        "print(train_x[0], train_y[0], sep=\"\\n\")"
      ],
      "metadata": {
        "colab": {
          "base_uri": "https://localhost:8080/"
        },
        "id": "VYMDE6KQOtyI",
        "outputId": "bb9355b0-6600-411f-e780-8df16236a924"
      },
      "execution_count": 4,
      "outputs": [
        {
          "output_type": "stream",
          "name": "stdout",
          "text": [
            "[  1.23247   0.        8.14      0.        0.538     6.142    91.7\n",
            "   3.9769    4.      307.       21.      396.9      18.72   ]\n",
            "15.2\n"
          ]
        }
      ]
    },
    {
      "cell_type": "code",
      "source": [
        "train_x=preprocessing.normalize(train_x)\n",
        "test_x=preprocessing.normalize(test_x)"
      ],
      "metadata": {
        "id": "3sypHDVRWaI3"
      },
      "execution_count": 5,
      "outputs": []
    },
    {
      "cell_type": "code",
      "source": [
        "print(train_x[0], train_y[0], sep=\"\\n\")"
      ],
      "metadata": {
        "colab": {
          "base_uri": "https://localhost:8080/"
        },
        "id": "-fMwtEkMW6Jf",
        "outputId": "bdb95250-92e6-403c-e031-f5beddea2ad9"
      },
      "execution_count": 6,
      "outputs": [
        {
          "output_type": "stream",
          "name": "stdout",
          "text": [
            "[0.0024119  0.         0.01592969 0.         0.00105285 0.01201967\n",
            " 0.17945359 0.00778265 0.00782786 0.6007879  0.04109624 0.77671895\n",
            " 0.03663436]\n",
            "15.2\n"
          ]
        }
      ]
    },
    {
      "cell_type": "code",
      "source": [
        "from tensorflow.keras.models import Sequential\n",
        "from tensorflow.keras.layers import *"
      ],
      "metadata": {
        "id": "QI36wcpCXAcf"
      },
      "execution_count": 7,
      "outputs": []
    },
    {
      "cell_type": "code",
      "source": [
        "def HousePricePredictionModel():\n",
        "  model=Sequential()\n",
        "  model.add(Dense(128, activation='relu', input_shape=(train_x[0].shape)))\n",
        "  model.add(Dense(64, activation='relu'))\n",
        "  model.add(Dense(32, activation='relu'))\n",
        "  model.add(Dense(1))\n",
        "  model.compile(optimizer='rmsprop', loss='mse', metrics=['mae'])\n",
        "  return model"
      ],
      "metadata": {
        "id": "A4sV0LwiXYi4"
      },
      "execution_count": 8,
      "outputs": []
    },
    {
      "cell_type": "code",
      "source": [
        "import numpy as np\n",
        "k=4\n",
        "num_val_samples=len(train_x)\n",
        "num_epochs=100\n",
        "all_scores=[]"
      ],
      "metadata": {
        "id": "O_GW-VnRYTBw"
      },
      "execution_count": 9,
      "outputs": []
    },
    {
      "cell_type": "code",
      "source": [
        "model=HousePricePredictionModel()\n",
        "history=model.fit(x=train_x, y=train_y, epochs=num_epochs, batch_size=1, verbose=1, validation_data=(test_x, test_y))"
      ],
      "metadata": {
        "colab": {
          "base_uri": "https://localhost:8080/"
        },
        "id": "2g5WvvOxYk7m",
        "outputId": "8b0944bd-751d-4d0b-ed1d-ed752db6df7c"
      },
      "execution_count": 10,
      "outputs": [
        {
          "output_type": "stream",
          "name": "stdout",
          "text": [
            "Epoch 1/100\n",
            "404/404 [==============================] - 2s 3ms/step - loss: 145.5415 - mae: 8.7923 - val_loss: 68.8641 - val_mae: 6.0462\n",
            "Epoch 2/100\n",
            "404/404 [==============================] - 2s 4ms/step - loss: 69.7694 - mae: 5.7337 - val_loss: 63.2191 - val_mae: 5.6970\n",
            "Epoch 3/100\n",
            "404/404 [==============================] - 2s 4ms/step - loss: 64.9359 - mae: 5.5742 - val_loss: 67.8925 - val_mae: 5.8162\n",
            "Epoch 4/100\n",
            "404/404 [==============================] - 2s 5ms/step - loss: 60.8691 - mae: 5.2939 - val_loss: 58.9317 - val_mae: 5.9331\n",
            "Epoch 5/100\n",
            "404/404 [==============================] - 2s 5ms/step - loss: 58.7991 - mae: 5.3539 - val_loss: 54.6137 - val_mae: 5.4022\n",
            "Epoch 6/100\n",
            "404/404 [==============================] - 2s 5ms/step - loss: 57.0457 - mae: 5.0907 - val_loss: 52.8658 - val_mae: 5.3723\n",
            "Epoch 7/100\n",
            "404/404 [==============================] - 2s 4ms/step - loss: 56.2645 - mae: 5.0078 - val_loss: 57.1478 - val_mae: 5.3478\n",
            "Epoch 8/100\n",
            "404/404 [==============================] - 1s 2ms/step - loss: 54.4693 - mae: 4.9711 - val_loss: 59.0719 - val_mae: 5.4000\n",
            "Epoch 9/100\n",
            "404/404 [==============================] - 1s 2ms/step - loss: 53.2712 - mae: 4.9309 - val_loss: 49.6041 - val_mae: 5.1926\n",
            "Epoch 10/100\n",
            "404/404 [==============================] - 1s 3ms/step - loss: 50.2644 - mae: 4.7863 - val_loss: 48.4324 - val_mae: 4.9914\n",
            "Epoch 11/100\n",
            "404/404 [==============================] - 1s 4ms/step - loss: 50.7482 - mae: 4.8564 - val_loss: 48.2462 - val_mae: 4.8995\n",
            "Epoch 12/100\n",
            "404/404 [==============================] - 1s 3ms/step - loss: 48.2601 - mae: 4.6553 - val_loss: 45.9713 - val_mae: 4.8020\n",
            "Epoch 13/100\n",
            "404/404 [==============================] - 1s 2ms/step - loss: 46.6111 - mae: 4.6157 - val_loss: 45.6555 - val_mae: 4.9832\n",
            "Epoch 14/100\n",
            "404/404 [==============================] - 1s 2ms/step - loss: 45.8292 - mae: 4.5979 - val_loss: 44.4030 - val_mae: 4.6356\n",
            "Epoch 15/100\n",
            "404/404 [==============================] - 1s 2ms/step - loss: 44.7583 - mae: 4.4914 - val_loss: 43.1819 - val_mae: 4.5528\n",
            "Epoch 16/100\n",
            "404/404 [==============================] - 1s 2ms/step - loss: 43.0764 - mae: 4.3548 - val_loss: 41.4499 - val_mae: 4.4335\n",
            "Epoch 17/100\n",
            "404/404 [==============================] - 2s 4ms/step - loss: 40.6918 - mae: 4.3925 - val_loss: 40.9108 - val_mae: 4.8171\n",
            "Epoch 18/100\n",
            "404/404 [==============================] - 2s 4ms/step - loss: 39.0952 - mae: 4.3547 - val_loss: 37.3457 - val_mae: 4.2677\n",
            "Epoch 19/100\n",
            "404/404 [==============================] - 1s 2ms/step - loss: 37.8765 - mae: 4.2941 - val_loss: 35.5441 - val_mae: 4.1634\n",
            "Epoch 20/100\n",
            "404/404 [==============================] - 1s 2ms/step - loss: 37.1405 - mae: 4.1026 - val_loss: 34.8504 - val_mae: 4.1143\n",
            "Epoch 21/100\n",
            "404/404 [==============================] - 1s 3ms/step - loss: 36.0759 - mae: 4.1626 - val_loss: 33.0722 - val_mae: 4.0939\n",
            "Epoch 22/100\n",
            "404/404 [==============================] - 1s 4ms/step - loss: 35.1394 - mae: 4.1316 - val_loss: 31.6147 - val_mae: 3.9885\n",
            "Epoch 23/100\n",
            "404/404 [==============================] - 1s 3ms/step - loss: 33.9078 - mae: 3.9728 - val_loss: 30.5755 - val_mae: 3.8572\n",
            "Epoch 24/100\n",
            "404/404 [==============================] - 1s 2ms/step - loss: 33.5871 - mae: 4.0085 - val_loss: 40.1437 - val_mae: 4.3702\n",
            "Epoch 25/100\n",
            "404/404 [==============================] - 1s 2ms/step - loss: 32.4383 - mae: 3.9808 - val_loss: 29.9846 - val_mae: 4.0346\n",
            "Epoch 26/100\n",
            "404/404 [==============================] - 1s 2ms/step - loss: 31.1463 - mae: 4.0134 - val_loss: 28.3985 - val_mae: 3.8014\n",
            "Epoch 27/100\n",
            "404/404 [==============================] - 1s 2ms/step - loss: 30.6965 - mae: 3.9882 - val_loss: 30.9626 - val_mae: 3.8452\n",
            "Epoch 28/100\n",
            "404/404 [==============================] - 1s 3ms/step - loss: 30.3931 - mae: 3.8610 - val_loss: 27.5024 - val_mae: 3.8306\n",
            "Epoch 29/100\n",
            "404/404 [==============================] - 1s 2ms/step - loss: 28.6043 - mae: 3.9042 - val_loss: 28.6428 - val_mae: 3.7817\n",
            "Epoch 30/100\n",
            "404/404 [==============================] - 1s 2ms/step - loss: 27.7567 - mae: 3.8660 - val_loss: 39.7248 - val_mae: 4.3365\n",
            "Epoch 31/100\n",
            "404/404 [==============================] - 1s 2ms/step - loss: 29.3860 - mae: 3.8004 - val_loss: 32.3602 - val_mae: 3.9262\n",
            "Epoch 32/100\n",
            "404/404 [==============================] - 1s 2ms/step - loss: 27.8154 - mae: 3.7233 - val_loss: 34.3846 - val_mae: 4.0566\n",
            "Epoch 33/100\n",
            "404/404 [==============================] - 1s 3ms/step - loss: 26.2964 - mae: 3.6734 - val_loss: 27.1586 - val_mae: 3.9846\n",
            "Epoch 34/100\n",
            "404/404 [==============================] - 2s 4ms/step - loss: 25.1708 - mae: 3.6783 - val_loss: 29.6291 - val_mae: 4.3148\n",
            "Epoch 35/100\n",
            "404/404 [==============================] - 1s 3ms/step - loss: 25.8524 - mae: 3.6282 - val_loss: 25.1343 - val_mae: 3.7256\n",
            "Epoch 36/100\n",
            "404/404 [==============================] - 1s 3ms/step - loss: 24.5939 - mae: 3.5292 - val_loss: 33.1807 - val_mae: 4.0298\n",
            "Epoch 37/100\n",
            "404/404 [==============================] - 1s 2ms/step - loss: 23.8212 - mae: 3.4907 - val_loss: 27.4290 - val_mae: 3.6544\n",
            "Epoch 38/100\n",
            "404/404 [==============================] - 1s 2ms/step - loss: 24.0607 - mae: 3.5297 - val_loss: 31.4504 - val_mae: 3.8677\n",
            "Epoch 39/100\n",
            "404/404 [==============================] - 1s 2ms/step - loss: 24.4230 - mae: 3.5990 - val_loss: 34.1252 - val_mae: 4.0733\n",
            "Epoch 40/100\n",
            "404/404 [==============================] - 1s 2ms/step - loss: 23.8711 - mae: 3.5455 - val_loss: 31.2430 - val_mae: 4.3701\n",
            "Epoch 41/100\n",
            "404/404 [==============================] - 1s 2ms/step - loss: 23.1392 - mae: 3.4463 - val_loss: 24.5604 - val_mae: 3.5541\n",
            "Epoch 42/100\n",
            "404/404 [==============================] - 1s 2ms/step - loss: 22.5518 - mae: 3.3566 - val_loss: 27.6940 - val_mae: 3.8267\n",
            "Epoch 43/100\n",
            "404/404 [==============================] - 1s 3ms/step - loss: 22.5931 - mae: 3.4556 - val_loss: 26.4344 - val_mae: 3.6195\n",
            "Epoch 44/100\n",
            "404/404 [==============================] - 1s 2ms/step - loss: 22.8824 - mae: 3.4645 - val_loss: 27.4851 - val_mae: 3.6445\n",
            "Epoch 45/100\n",
            "404/404 [==============================] - 1s 3ms/step - loss: 21.6734 - mae: 3.3401 - val_loss: 32.4632 - val_mae: 4.0338\n",
            "Epoch 46/100\n",
            "404/404 [==============================] - 2s 4ms/step - loss: 21.5904 - mae: 3.3679 - val_loss: 31.0672 - val_mae: 3.9002\n",
            "Epoch 47/100\n",
            "404/404 [==============================] - 1s 3ms/step - loss: 21.3655 - mae: 3.2413 - val_loss: 28.4918 - val_mae: 4.0313\n",
            "Epoch 48/100\n",
            "404/404 [==============================] - 1s 2ms/step - loss: 20.2416 - mae: 3.2453 - val_loss: 27.6349 - val_mae: 3.9559\n",
            "Epoch 49/100\n",
            "404/404 [==============================] - 1s 2ms/step - loss: 20.4459 - mae: 3.2459 - val_loss: 27.4833 - val_mae: 3.6763\n",
            "Epoch 50/100\n",
            "404/404 [==============================] - 1s 3ms/step - loss: 20.2423 - mae: 3.2809 - val_loss: 26.9452 - val_mae: 3.7409\n",
            "Epoch 51/100\n",
            "404/404 [==============================] - 1s 3ms/step - loss: 20.0738 - mae: 3.2212 - val_loss: 27.5344 - val_mae: 3.6881\n",
            "Epoch 52/100\n",
            "404/404 [==============================] - 1s 3ms/step - loss: 19.9622 - mae: 3.2753 - val_loss: 25.7041 - val_mae: 3.5765\n",
            "Epoch 53/100\n",
            "404/404 [==============================] - 1s 3ms/step - loss: 19.8911 - mae: 3.1852 - val_loss: 26.8979 - val_mae: 3.6174\n",
            "Epoch 54/100\n",
            "404/404 [==============================] - 1s 2ms/step - loss: 20.0829 - mae: 3.2030 - val_loss: 28.0730 - val_mae: 3.8904\n",
            "Epoch 55/100\n",
            "404/404 [==============================] - 1s 2ms/step - loss: 19.9979 - mae: 3.1615 - val_loss: 27.7522 - val_mae: 3.9664\n",
            "Epoch 56/100\n",
            "404/404 [==============================] - 1s 2ms/step - loss: 19.1783 - mae: 3.2067 - val_loss: 30.0281 - val_mae: 3.8551\n",
            "Epoch 57/100\n",
            "404/404 [==============================] - 2s 4ms/step - loss: 18.8483 - mae: 3.2126 - val_loss: 34.2550 - val_mae: 4.1063\n",
            "Epoch 58/100\n",
            "404/404 [==============================] - 2s 4ms/step - loss: 18.1598 - mae: 3.1070 - val_loss: 33.0729 - val_mae: 4.0108\n",
            "Epoch 59/100\n",
            "404/404 [==============================] - 1s 2ms/step - loss: 19.6900 - mae: 3.1554 - val_loss: 32.8028 - val_mae: 3.9183\n",
            "Epoch 60/100\n",
            "404/404 [==============================] - 1s 2ms/step - loss: 18.1532 - mae: 3.1382 - val_loss: 26.2749 - val_mae: 3.5356\n",
            "Epoch 61/100\n",
            "404/404 [==============================] - 1s 2ms/step - loss: 18.1785 - mae: 3.0995 - val_loss: 28.3781 - val_mae: 3.6907\n",
            "Epoch 62/100\n",
            "404/404 [==============================] - 1s 2ms/step - loss: 19.4920 - mae: 3.1978 - val_loss: 30.7963 - val_mae: 3.8728\n",
            "Epoch 63/100\n",
            "404/404 [==============================] - 1s 2ms/step - loss: 18.1173 - mae: 3.0688 - val_loss: 26.1789 - val_mae: 3.5988\n",
            "Epoch 64/100\n",
            "404/404 [==============================] - 1s 3ms/step - loss: 17.2757 - mae: 3.0369 - val_loss: 27.4605 - val_mae: 3.6472\n",
            "Epoch 65/100\n",
            "404/404 [==============================] - 1s 2ms/step - loss: 18.1160 - mae: 3.0278 - val_loss: 38.6365 - val_mae: 4.5147\n",
            "Epoch 66/100\n",
            "404/404 [==============================] - 1s 2ms/step - loss: 19.3541 - mae: 3.1477 - val_loss: 28.6040 - val_mae: 3.6339\n",
            "Epoch 67/100\n",
            "404/404 [==============================] - 1s 2ms/step - loss: 16.7489 - mae: 3.0140 - val_loss: 26.9231 - val_mae: 3.5372\n",
            "Epoch 68/100\n",
            "404/404 [==============================] - 1s 2ms/step - loss: 19.1732 - mae: 3.1333 - val_loss: 29.8634 - val_mae: 3.7684\n",
            "Epoch 69/100\n",
            "404/404 [==============================] - 1s 4ms/step - loss: 18.6408 - mae: 3.0407 - val_loss: 25.7203 - val_mae: 3.5297\n",
            "Epoch 70/100\n",
            "404/404 [==============================] - 2s 4ms/step - loss: 18.1950 - mae: 3.0640 - val_loss: 34.5356 - val_mae: 4.5067\n",
            "Epoch 71/100\n",
            "404/404 [==============================] - 1s 2ms/step - loss: 17.0310 - mae: 2.9925 - val_loss: 28.4350 - val_mae: 3.7145\n",
            "Epoch 72/100\n",
            "404/404 [==============================] - 1s 2ms/step - loss: 18.3346 - mae: 3.0613 - val_loss: 31.2843 - val_mae: 3.9095\n",
            "Epoch 73/100\n",
            "404/404 [==============================] - 1s 3ms/step - loss: 17.9009 - mae: 3.0567 - val_loss: 27.5587 - val_mae: 3.5759\n",
            "Epoch 74/100\n",
            "404/404 [==============================] - 1s 3ms/step - loss: 18.5035 - mae: 3.0286 - val_loss: 28.1504 - val_mae: 3.6315\n",
            "Epoch 75/100\n",
            "404/404 [==============================] - 1s 2ms/step - loss: 17.8003 - mae: 3.0092 - val_loss: 34.7125 - val_mae: 4.0355\n",
            "Epoch 76/100\n",
            "404/404 [==============================] - 1s 2ms/step - loss: 17.7397 - mae: 3.0091 - val_loss: 29.3841 - val_mae: 3.7594\n",
            "Epoch 77/100\n",
            "404/404 [==============================] - 1s 2ms/step - loss: 16.5327 - mae: 2.9666 - val_loss: 31.9672 - val_mae: 3.8771\n",
            "Epoch 78/100\n",
            "404/404 [==============================] - 1s 3ms/step - loss: 17.0211 - mae: 3.0601 - val_loss: 27.3189 - val_mae: 3.5776\n",
            "Epoch 79/100\n",
            "404/404 [==============================] - 1s 3ms/step - loss: 17.3940 - mae: 2.9842 - val_loss: 28.9216 - val_mae: 3.6307\n",
            "Epoch 80/100\n",
            "404/404 [==============================] - 1s 3ms/step - loss: 18.1291 - mae: 3.0224 - val_loss: 26.6639 - val_mae: 3.4680\n",
            "Epoch 81/100\n",
            "404/404 [==============================] - 2s 4ms/step - loss: 17.8652 - mae: 2.9629 - val_loss: 26.8023 - val_mae: 3.7343\n",
            "Epoch 82/100\n",
            "404/404 [==============================] - 1s 3ms/step - loss: 17.2346 - mae: 3.1183 - val_loss: 27.1565 - val_mae: 3.5161\n",
            "Epoch 83/100\n",
            "404/404 [==============================] - 1s 2ms/step - loss: 17.0260 - mae: 2.9620 - val_loss: 34.3677 - val_mae: 3.9714\n",
            "Epoch 84/100\n",
            "404/404 [==============================] - 1s 2ms/step - loss: 16.8439 - mae: 2.9711 - val_loss: 29.6589 - val_mae: 3.7165\n",
            "Epoch 85/100\n",
            "404/404 [==============================] - 1s 2ms/step - loss: 17.7434 - mae: 2.9145 - val_loss: 26.5117 - val_mae: 3.5993\n",
            "Epoch 86/100\n",
            "404/404 [==============================] - 1s 2ms/step - loss: 17.0978 - mae: 2.9539 - val_loss: 27.3087 - val_mae: 3.5549\n",
            "Epoch 87/100\n",
            "404/404 [==============================] - 1s 2ms/step - loss: 17.5358 - mae: 2.9120 - val_loss: 31.6505 - val_mae: 3.8523\n",
            "Epoch 88/100\n",
            "404/404 [==============================] - 1s 3ms/step - loss: 17.5376 - mae: 3.0532 - val_loss: 37.5312 - val_mae: 4.3647\n",
            "Epoch 89/100\n",
            "404/404 [==============================] - 1s 2ms/step - loss: 16.7176 - mae: 2.8400 - val_loss: 45.2052 - val_mae: 4.8452\n",
            "Epoch 90/100\n",
            "404/404 [==============================] - 1s 2ms/step - loss: 17.3739 - mae: 2.9762 - val_loss: 29.5277 - val_mae: 3.7287\n",
            "Epoch 91/100\n",
            "404/404 [==============================] - 1s 2ms/step - loss: 16.8682 - mae: 2.9385 - val_loss: 27.8739 - val_mae: 3.5381\n",
            "Epoch 92/100\n",
            "404/404 [==============================] - 1s 3ms/step - loss: 16.4327 - mae: 2.8658 - val_loss: 26.0942 - val_mae: 3.4665\n",
            "Epoch 93/100\n",
            "404/404 [==============================] - 2s 4ms/step - loss: 17.5982 - mae: 2.9715 - val_loss: 27.8386 - val_mae: 3.5376\n",
            "Epoch 94/100\n",
            "404/404 [==============================] - 1s 3ms/step - loss: 15.5692 - mae: 2.9293 - val_loss: 30.0279 - val_mae: 3.6566\n",
            "Epoch 95/100\n",
            "404/404 [==============================] - 1s 2ms/step - loss: 16.3071 - mae: 2.9085 - val_loss: 31.1285 - val_mae: 4.0894\n",
            "Epoch 96/100\n",
            "404/404 [==============================] - 1s 2ms/step - loss: 17.0636 - mae: 2.9431 - val_loss: 26.9851 - val_mae: 3.4460\n",
            "Epoch 97/100\n",
            "404/404 [==============================] - 1s 2ms/step - loss: 16.2763 - mae: 2.8396 - val_loss: 28.4153 - val_mae: 3.6897\n",
            "Epoch 98/100\n",
            "404/404 [==============================] - 1s 3ms/step - loss: 16.4949 - mae: 2.8380 - val_loss: 32.1632 - val_mae: 3.8535\n",
            "Epoch 99/100\n",
            "404/404 [==============================] - 1s 3ms/step - loss: 17.6502 - mae: 2.9592 - val_loss: 30.2175 - val_mae: 3.6849\n",
            "Epoch 100/100\n",
            "404/404 [==============================] - 1s 2ms/step - loss: 16.6877 - mae: 2.8221 - val_loss: 38.8675 - val_mae: 4.3418\n"
          ]
        }
      ]
    },
    {
      "cell_type": "code",
      "source": [
        "test_input=[\n",
        "    [\n",
        "      8.65407330e-05,\n",
        "      0.00000000e+00,\n",
        "      1.13392175e-02,\n",
        "      0.00000000e+00,\n",
        "      1.12518247e-03,\n",
        "      0.31897603e-02,\n",
        "      8.53763011e-02,\n",
        "      1.30768051e-02,\n",
        "      0.09241016e-02,\n",
        "      1.53763011e-02,\n",
        "      0.30768051e-02,\n",
        "      4.89399752e-01,\n",
        "      2.41333742e-02\n",
        "    ]\n",
        "]\n",
        "print(\"Actual Output : 21.1\")\n",
        "print(\"Predicted output :\", model.predict(test_input))"
      ],
      "metadata": {
        "colab": {
          "base_uri": "https://localhost:8080/"
        },
        "id": "lSw5Zav6ZAqm",
        "outputId": "b3f56748-4179-48da-cabf-ec0977d1b847"
      },
      "execution_count": 11,
      "outputs": [
        {
          "output_type": "stream",
          "name": "stdout",
          "text": [
            "Actual Output : 21.1\n",
            "1/1 [==============================] - 0s 204ms/step\n",
            "Predicted output : [[22.302988]]\n"
          ]
        }
      ]
    }
  ]
}
