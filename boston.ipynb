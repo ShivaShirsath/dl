{
  "nbformat": 4,
  "nbformat_minor": 0,
  "metadata": {
    "colab": {
      "provenance": [],
      "authorship_tag": "ABX9TyN3EFmfoK+RP6hw42X5nEGb",
      "include_colab_link": true
    },
    "kernelspec": {
      "name": "python3",
      "display_name": "Python 3"
    },
    "language_info": {
      "name": "python"
    }
  },
  "cells": [
    {
      "cell_type": "markdown",
      "metadata": {
        "id": "view-in-github",
        "colab_type": "text"
      },
      "source": [
        "<a href=\"https://colab.research.google.com/github/ShivaShirsath/dl/blob/master/boston.ipynb\" target=\"_parent\"><img src=\"https://colab.research.google.com/assets/colab-badge.svg\" alt=\"Open In Colab\"/></a>"
      ]
    },
    {
      "cell_type": "code",
      "execution_count": null,
      "metadata": {
        "id": "UEPn3CnKOaEs"
      },
      "outputs": [],
      "source": [
        "import tensorflow as tf\n",
        "from tensorflow.keras.datasets import boston_housing\n",
        "from sklearn import preprocessing"
      ]
    },
    {
      "cell_type": "code",
      "source": [
        "(train_x, train_y),(test_x, test_y)=boston_housing.load_data()"
      ],
      "metadata": {
        "id": "jqnOO8NmOjoa",
        "colab": {
          "base_uri": "https://localhost:8080/"
        },
        "outputId": "d4a1c29d-b0fa-43cf-f36f-145d746f1641"
      },
      "execution_count": null,
      "outputs": [
        {
          "output_type": "stream",
          "name": "stdout",
          "text": [
            "Downloading data from https://storage.googleapis.com/tensorflow/tf-keras-datasets/boston_housing.npz\n",
            "57026/57026 [==============================] - 0s 0us/step\n"
          ]
        }
      ]
    },
    {
      "cell_type": "code",
      "source": [
        "print(\"       Train Shape :\", train_x.shape)\n",
        "print(\"        Test Shape :\", test_x.shape)\n",
        "print(\"Actual Train Shape :\", train_y.shape)\n",
        "print(\"Actual  Test Shape :\", test_y.shape)"
      ],
      "metadata": {
        "colab": {
          "base_uri": "https://localhost:8080/"
        },
        "id": "XNGkaXdZOkuI",
        "outputId": "8f8f288b-541c-4374-e7fc-779c29af0186"
      },
      "execution_count": null,
      "outputs": [
        {
          "output_type": "stream",
          "name": "stdout",
          "text": [
            "       Train Shape : (404, 13)\n",
            "        Test Shape : (102, 13)\n",
            "Actual Train Shape : (404,)\n",
            "Actual  Test Shape : (102,)\n"
          ]
        }
      ]
    },
    {
      "cell_type": "code",
      "source": [
        "print(train_x[0], train_y[0], sep=\"\\n\")"
      ],
      "metadata": {
        "colab": {
          "base_uri": "https://localhost:8080/"
        },
        "id": "VYMDE6KQOtyI",
        "outputId": "6d4acf8d-ec3c-41bf-c6c7-427a2d98e7e2"
      },
      "execution_count": null,
      "outputs": [
        {
          "output_type": "stream",
          "name": "stdout",
          "text": [
            "[  1.23247   0.        8.14      0.        0.538     6.142    91.7\n",
            "   3.9769    4.      307.       21.      396.9      18.72   ]\n",
            "15.2\n"
          ]
        }
      ]
    },
    {
      "cell_type": "code",
      "source": [
        "train_x=preprocessing.normalize(train_x)\n",
        "test_x=preprocessing.normalize(test_x)"
      ],
      "metadata": {
        "id": "3sypHDVRWaI3"
      },
      "execution_count": null,
      "outputs": []
    },
    {
      "cell_type": "code",
      "source": [
        "print(train_x[0], train_y[0], sep=\"\\n\")"
      ],
      "metadata": {
        "colab": {
          "base_uri": "https://localhost:8080/"
        },
        "id": "-fMwtEkMW6Jf",
        "outputId": "71a5ae1e-b10c-4dba-e634-41641a5fdb1c"
      },
      "execution_count": null,
      "outputs": [
        {
          "output_type": "stream",
          "name": "stdout",
          "text": [
            "[0.0024119  0.         0.01592969 0.         0.00105285 0.01201967\n",
            " 0.17945359 0.00778265 0.00782786 0.6007879  0.04109624 0.77671895\n",
            " 0.03663436]\n",
            "15.2\n"
          ]
        }
      ]
    },
    {
      "cell_type": "code",
      "source": [
        "from tensorflow.keras.models import Sequential\n",
        "from tensorflow.keras.layers import *"
      ],
      "metadata": {
        "id": "QI36wcpCXAcf"
      },
      "execution_count": null,
      "outputs": []
    },
    {
      "cell_type": "code",
      "source": [
        "def HousePricePredictionModel():\n",
        "  model=Sequential()\n",
        "  model.add(Dense(128, activation='relu', input_shape=(train_x[0].shape)))\n",
        "  model.add(Dense(64, activation='relu'))\n",
        "  model.add(Dense(32, activation='relu'))\n",
        "  model.add(Dense(1))\n",
        "  model.compile(optimizer='rmsprop', loss='mse', metrics=['mae'])\n",
        "  return model"
      ],
      "metadata": {
        "id": "A4sV0LwiXYi4"
      },
      "execution_count": null,
      "outputs": []
    },
    {
      "cell_type": "code",
      "source": [
        "import numpy as np\n",
        "k=4\n",
        "num_val_samples=len(train_x)\n",
        "num_epochs=100\n",
        "all_scores=[]"
      ],
      "metadata": {
        "id": "O_GW-VnRYTBw"
      },
      "execution_count": null,
      "outputs": []
    },
    {
      "cell_type": "code",
      "source": [
        "model=HousePricePredictionModel()\n",
        "history=model.fit(x=train_x, y=train_y, epochs=num_epochs, batch_size=1, verbose=1, validation_data=(test_x, test_y))"
      ],
      "metadata": {
        "colab": {
          "base_uri": "https://localhost:8080/"
        },
        "id": "2g5WvvOxYk7m",
        "outputId": "f25c737b-3431-4a55-8f86-82ce75550d50"
      },
      "execution_count": null,
      "outputs": [
        {
          "output_type": "stream",
          "name": "stdout",
          "text": [
            "Epoch 1/100\n",
            "404/404 [==============================] - 2s 3ms/step - loss: 141.1770 - mae: 8.4450 - val_loss: 69.7067 - val_mae: 5.9848\n",
            "Epoch 2/100\n",
            "404/404 [==============================] - 1s 3ms/step - loss: 68.5714 - mae: 5.6698 - val_loss: 60.7106 - val_mae: 5.8272\n",
            "Epoch 3/100\n",
            "404/404 [==============================] - 1s 3ms/step - loss: 61.0489 - mae: 5.5501 - val_loss: 59.0215 - val_mae: 5.5570\n",
            "Epoch 4/100\n",
            "404/404 [==============================] - 1s 3ms/step - loss: 61.4853 - mae: 5.2810 - val_loss: 57.5770 - val_mae: 5.4853\n",
            "Epoch 5/100\n",
            "404/404 [==============================] - 2s 5ms/step - loss: 59.3355 - mae: 5.3466 - val_loss: 55.5930 - val_mae: 5.3956\n",
            "Epoch 6/100\n",
            "404/404 [==============================] - 3s 8ms/step - loss: 56.6957 - mae: 5.1640 - val_loss: 55.2840 - val_mae: 5.7072\n",
            "Epoch 7/100\n",
            "404/404 [==============================] - 3s 7ms/step - loss: 56.2647 - mae: 5.1275 - val_loss: 60.9008 - val_mae: 5.4786\n",
            "Epoch 8/100\n",
            "404/404 [==============================] - 1s 3ms/step - loss: 52.8223 - mae: 5.0001 - val_loss: 56.3659 - val_mae: 5.2752\n",
            "Epoch 9/100\n",
            "404/404 [==============================] - 1s 2ms/step - loss: 52.5698 - mae: 4.9557 - val_loss: 55.0865 - val_mae: 5.1992\n",
            "Epoch 10/100\n",
            "404/404 [==============================] - 1s 2ms/step - loss: 52.1681 - mae: 4.8627 - val_loss: 47.5403 - val_mae: 4.9378\n",
            "Epoch 11/100\n",
            "404/404 [==============================] - 1s 3ms/step - loss: 50.2559 - mae: 4.7386 - val_loss: 46.4076 - val_mae: 4.8331\n",
            "Epoch 12/100\n",
            "404/404 [==============================] - 1s 3ms/step - loss: 46.8776 - mae: 4.6559 - val_loss: 55.7463 - val_mae: 5.9982\n",
            "Epoch 13/100\n",
            "404/404 [==============================] - 1s 3ms/step - loss: 46.3138 - mae: 4.6702 - val_loss: 46.3663 - val_mae: 5.1616\n",
            "Epoch 14/100\n",
            "404/404 [==============================] - 1s 3ms/step - loss: 45.3704 - mae: 4.5261 - val_loss: 45.4287 - val_mae: 5.1408\n",
            "Epoch 15/100\n",
            "404/404 [==============================] - 2s 4ms/step - loss: 43.1652 - mae: 4.5641 - val_loss: 42.5512 - val_mae: 4.5093\n",
            "Epoch 16/100\n",
            "404/404 [==============================] - 2s 5ms/step - loss: 41.4395 - mae: 4.3962 - val_loss: 39.1258 - val_mae: 4.3033\n",
            "Epoch 17/100\n",
            "404/404 [==============================] - 1s 3ms/step - loss: 40.7556 - mae: 4.3679 - val_loss: 40.2605 - val_mae: 4.3628\n",
            "Epoch 18/100\n",
            "404/404 [==============================] - 1s 2ms/step - loss: 40.0101 - mae: 4.3681 - val_loss: 44.9787 - val_mae: 4.6586\n",
            "Epoch 19/100\n",
            "404/404 [==============================] - 1s 2ms/step - loss: 38.0748 - mae: 4.2331 - val_loss: 36.2935 - val_mae: 4.1830\n",
            "Epoch 20/100\n",
            "404/404 [==============================] - 1s 3ms/step - loss: 38.3753 - mae: 4.2850 - val_loss: 35.2880 - val_mae: 4.4434\n",
            "Epoch 21/100\n",
            "404/404 [==============================] - 1s 3ms/step - loss: 37.2059 - mae: 4.1521 - val_loss: 32.4405 - val_mae: 4.0483\n",
            "Epoch 22/100\n",
            "404/404 [==============================] - 1s 3ms/step - loss: 35.4005 - mae: 4.0984 - val_loss: 33.9763 - val_mae: 4.3514\n",
            "Epoch 23/100\n",
            "404/404 [==============================] - 1s 3ms/step - loss: 35.3738 - mae: 4.2331 - val_loss: 31.4391 - val_mae: 4.1126\n",
            "Epoch 24/100\n",
            "404/404 [==============================] - 1s 3ms/step - loss: 34.8242 - mae: 4.1715 - val_loss: 31.8802 - val_mae: 3.9513\n",
            "Epoch 25/100\n",
            "404/404 [==============================] - 1s 3ms/step - loss: 33.9467 - mae: 4.1610 - val_loss: 33.9790 - val_mae: 4.0357\n",
            "Epoch 26/100\n",
            "404/404 [==============================] - 2s 4ms/step - loss: 31.4239 - mae: 3.9717 - val_loss: 34.9487 - val_mae: 4.0593\n",
            "Epoch 27/100\n",
            "404/404 [==============================] - 2s 4ms/step - loss: 32.9781 - mae: 4.0545 - val_loss: 33.0630 - val_mae: 3.9759\n",
            "Epoch 28/100\n",
            "404/404 [==============================] - 1s 3ms/step - loss: 31.8779 - mae: 3.9936 - val_loss: 29.3717 - val_mae: 3.7964\n",
            "Epoch 29/100\n",
            "404/404 [==============================] - 1s 2ms/step - loss: 30.4514 - mae: 3.9435 - val_loss: 30.3172 - val_mae: 3.8344\n",
            "Epoch 30/100\n",
            "404/404 [==============================] - 1s 3ms/step - loss: 31.5559 - mae: 3.9157 - val_loss: 29.7995 - val_mae: 4.2806\n",
            "Epoch 31/100\n",
            "404/404 [==============================] - 1s 3ms/step - loss: 28.7590 - mae: 3.8195 - val_loss: 32.0960 - val_mae: 4.5455\n",
            "Epoch 32/100\n",
            "404/404 [==============================] - 1s 3ms/step - loss: 29.6228 - mae: 3.7885 - val_loss: 33.9272 - val_mae: 4.0329\n",
            "Epoch 33/100\n",
            "404/404 [==============================] - 1s 3ms/step - loss: 28.8294 - mae: 3.7145 - val_loss: 32.2419 - val_mae: 3.9479\n",
            "Epoch 34/100\n",
            "404/404 [==============================] - 1s 3ms/step - loss: 26.9511 - mae: 3.6926 - val_loss: 30.4284 - val_mae: 3.8631\n",
            "Epoch 35/100\n",
            "404/404 [==============================] - 1s 3ms/step - loss: 27.4576 - mae: 3.6628 - val_loss: 27.9651 - val_mae: 3.7041\n",
            "Epoch 36/100\n",
            "404/404 [==============================] - 1s 2ms/step - loss: 24.8337 - mae: 3.6078 - val_loss: 28.9259 - val_mae: 3.8163\n",
            "Epoch 37/100\n",
            "404/404 [==============================] - 2s 4ms/step - loss: 26.2778 - mae: 3.5931 - val_loss: 27.0589 - val_mae: 4.0438\n",
            "Epoch 38/100\n",
            "404/404 [==============================] - 2s 4ms/step - loss: 23.6156 - mae: 3.5806 - val_loss: 27.9023 - val_mae: 4.1603\n",
            "Epoch 39/100\n",
            "404/404 [==============================] - 1s 2ms/step - loss: 24.1337 - mae: 3.4772 - val_loss: 25.8110 - val_mae: 3.7344\n",
            "Epoch 40/100\n",
            "404/404 [==============================] - 1s 2ms/step - loss: 23.6579 - mae: 3.4127 - val_loss: 25.7589 - val_mae: 3.6141\n",
            "Epoch 41/100\n",
            "404/404 [==============================] - 1s 3ms/step - loss: 22.2984 - mae: 3.4051 - val_loss: 25.8585 - val_mae: 3.7028\n",
            "Epoch 42/100\n",
            "404/404 [==============================] - 1s 3ms/step - loss: 22.0918 - mae: 3.4668 - val_loss: 31.8374 - val_mae: 4.4961\n",
            "Epoch 43/100\n",
            "404/404 [==============================] - 1s 3ms/step - loss: 22.6942 - mae: 3.3696 - val_loss: 25.5618 - val_mae: 3.6645\n",
            "Epoch 44/100\n",
            "404/404 [==============================] - 1s 3ms/step - loss: 22.5189 - mae: 3.4484 - val_loss: 26.5501 - val_mae: 3.6576\n",
            "Epoch 45/100\n",
            "404/404 [==============================] - 1s 3ms/step - loss: 22.3497 - mae: 3.3309 - val_loss: 28.3438 - val_mae: 4.0936\n",
            "Epoch 46/100\n",
            "404/404 [==============================] - 1s 3ms/step - loss: 20.2602 - mae: 3.2373 - val_loss: 29.0271 - val_mae: 3.8476\n",
            "Epoch 47/100\n",
            "404/404 [==============================] - 1s 3ms/step - loss: 20.9692 - mae: 3.3296 - val_loss: 30.2294 - val_mae: 3.9455\n",
            "Epoch 48/100\n",
            "404/404 [==============================] - 2s 4ms/step - loss: 21.5553 - mae: 3.3034 - val_loss: 26.3676 - val_mae: 3.6019\n",
            "Epoch 49/100\n",
            "404/404 [==============================] - 2s 4ms/step - loss: 20.4233 - mae: 3.2342 - val_loss: 28.4636 - val_mae: 3.8259\n",
            "Epoch 50/100\n",
            "404/404 [==============================] - 1s 3ms/step - loss: 19.0063 - mae: 3.1872 - val_loss: 27.2907 - val_mae: 3.6775\n",
            "Epoch 51/100\n",
            "404/404 [==============================] - 1s 3ms/step - loss: 20.4582 - mae: 3.2366 - val_loss: 27.0555 - val_mae: 3.6470\n",
            "Epoch 52/100\n",
            "404/404 [==============================] - 1s 2ms/step - loss: 19.6691 - mae: 3.1844 - val_loss: 26.6472 - val_mae: 3.6725\n",
            "Epoch 53/100\n",
            "404/404 [==============================] - 1s 4ms/step - loss: 19.1721 - mae: 3.1146 - val_loss: 32.0996 - val_mae: 3.9923\n",
            "Epoch 54/100\n",
            "404/404 [==============================] - 2s 4ms/step - loss: 20.4534 - mae: 3.2033 - val_loss: 27.6866 - val_mae: 3.6851\n",
            "Epoch 55/100\n",
            "404/404 [==============================] - 1s 3ms/step - loss: 19.6314 - mae: 3.1631 - val_loss: 33.8107 - val_mae: 4.1028\n",
            "Epoch 56/100\n",
            "404/404 [==============================] - 1s 2ms/step - loss: 19.7904 - mae: 3.2076 - val_loss: 27.5273 - val_mae: 3.6653\n",
            "Epoch 57/100\n",
            "404/404 [==============================] - 1s 2ms/step - loss: 19.0724 - mae: 3.1267 - val_loss: 37.3473 - val_mae: 4.5906\n",
            "Epoch 58/100\n",
            "404/404 [==============================] - 1s 3ms/step - loss: 18.2562 - mae: 3.0883 - val_loss: 31.9867 - val_mae: 4.1638\n",
            "Epoch 59/100\n",
            "404/404 [==============================] - 2s 4ms/step - loss: 19.0086 - mae: 3.1642 - val_loss: 28.5268 - val_mae: 3.6745\n",
            "Epoch 60/100\n",
            "404/404 [==============================] - 1s 3ms/step - loss: 19.6363 - mae: 3.0765 - val_loss: 27.3461 - val_mae: 3.6185\n",
            "Epoch 61/100\n",
            "404/404 [==============================] - 1s 3ms/step - loss: 18.5934 - mae: 2.9935 - val_loss: 28.6575 - val_mae: 3.7652\n",
            "Epoch 62/100\n",
            "404/404 [==============================] - 1s 3ms/step - loss: 18.2275 - mae: 3.0957 - val_loss: 28.5675 - val_mae: 3.7307\n",
            "Epoch 63/100\n",
            "404/404 [==============================] - 1s 3ms/step - loss: 19.1618 - mae: 3.0562 - val_loss: 39.9754 - val_mae: 4.3630\n",
            "Epoch 64/100\n",
            "404/404 [==============================] - 1s 2ms/step - loss: 17.9222 - mae: 3.0394 - val_loss: 28.0326 - val_mae: 3.6095\n",
            "Epoch 65/100\n",
            "404/404 [==============================] - 1s 3ms/step - loss: 19.5687 - mae: 3.1234 - val_loss: 28.8367 - val_mae: 3.6852\n",
            "Epoch 66/100\n",
            "404/404 [==============================] - 1s 3ms/step - loss: 18.6721 - mae: 3.0710 - val_loss: 29.6643 - val_mae: 3.7595\n",
            "Epoch 67/100\n",
            "404/404 [==============================] - 1s 2ms/step - loss: 18.7746 - mae: 3.0775 - val_loss: 32.5401 - val_mae: 4.0124\n",
            "Epoch 68/100\n",
            "404/404 [==============================] - 1s 3ms/step - loss: 18.7551 - mae: 3.0010 - val_loss: 28.5397 - val_mae: 3.6037\n",
            "Epoch 69/100\n",
            "404/404 [==============================] - 1s 3ms/step - loss: 18.5416 - mae: 3.0571 - val_loss: 32.0898 - val_mae: 3.9479\n",
            "Epoch 70/100\n",
            "404/404 [==============================] - 2s 5ms/step - loss: 18.4638 - mae: 3.0375 - val_loss: 28.3753 - val_mae: 3.6701\n",
            "Epoch 71/100\n",
            "404/404 [==============================] - 1s 3ms/step - loss: 19.2111 - mae: 3.0839 - val_loss: 27.6165 - val_mae: 3.5542\n",
            "Epoch 72/100\n",
            "404/404 [==============================] - 1s 2ms/step - loss: 17.3438 - mae: 2.9546 - val_loss: 34.7019 - val_mae: 4.0596\n",
            "Epoch 73/100\n",
            "404/404 [==============================] - 1s 2ms/step - loss: 16.7802 - mae: 2.9252 - val_loss: 30.7275 - val_mae: 3.8383\n",
            "Epoch 74/100\n",
            "404/404 [==============================] - 1s 2ms/step - loss: 17.9705 - mae: 3.0069 - val_loss: 30.9558 - val_mae: 3.7609\n",
            "Epoch 75/100\n",
            "404/404 [==============================] - 1s 2ms/step - loss: 18.5310 - mae: 3.0474 - val_loss: 31.0451 - val_mae: 3.9188\n",
            "Epoch 76/100\n",
            "404/404 [==============================] - 1s 2ms/step - loss: 18.4642 - mae: 2.9786 - val_loss: 27.8142 - val_mae: 3.6710\n",
            "Epoch 77/100\n",
            "404/404 [==============================] - 1s 2ms/step - loss: 16.1635 - mae: 2.8289 - val_loss: 27.4920 - val_mae: 3.6091\n",
            "Epoch 78/100\n",
            "404/404 [==============================] - 1s 2ms/step - loss: 16.9773 - mae: 2.9223 - val_loss: 29.4924 - val_mae: 3.6136\n",
            "Epoch 79/100\n",
            "404/404 [==============================] - 1s 2ms/step - loss: 18.3378 - mae: 2.9745 - val_loss: 42.5938 - val_mae: 4.8367\n",
            "Epoch 80/100\n",
            "404/404 [==============================] - 1s 2ms/step - loss: 17.4822 - mae: 3.0748 - val_loss: 31.2688 - val_mae: 3.7687\n",
            "Epoch 81/100\n",
            "404/404 [==============================] - 1s 4ms/step - loss: 16.9334 - mae: 2.8927 - val_loss: 27.5781 - val_mae: 3.5843\n",
            "Epoch 82/100\n",
            "404/404 [==============================] - 2s 4ms/step - loss: 17.5697 - mae: 3.0255 - val_loss: 35.7847 - val_mae: 4.2322\n",
            "Epoch 83/100\n",
            "404/404 [==============================] - 1s 3ms/step - loss: 16.9621 - mae: 2.8397 - val_loss: 35.4924 - val_mae: 4.0923\n",
            "Epoch 84/100\n",
            "404/404 [==============================] - 1s 3ms/step - loss: 15.4590 - mae: 2.7410 - val_loss: 41.0804 - val_mae: 4.7111\n",
            "Epoch 85/100\n",
            "404/404 [==============================] - 1s 2ms/step - loss: 16.6015 - mae: 2.9664 - val_loss: 28.3220 - val_mae: 3.6064\n",
            "Epoch 86/100\n",
            "404/404 [==============================] - 1s 2ms/step - loss: 15.4263 - mae: 2.8596 - val_loss: 33.6557 - val_mae: 4.0108\n",
            "Epoch 87/100\n",
            "404/404 [==============================] - 1s 2ms/step - loss: 17.3834 - mae: 2.7822 - val_loss: 30.4588 - val_mae: 3.8017\n",
            "Epoch 88/100\n",
            "404/404 [==============================] - 1s 3ms/step - loss: 16.4401 - mae: 2.8723 - val_loss: 33.8403 - val_mae: 3.9857\n",
            "Epoch 89/100\n",
            "404/404 [==============================] - 1s 3ms/step - loss: 17.5602 - mae: 2.9119 - val_loss: 30.5728 - val_mae: 3.8906\n",
            "Epoch 90/100\n",
            "404/404 [==============================] - 1s 3ms/step - loss: 16.3368 - mae: 2.8779 - val_loss: 32.2652 - val_mae: 3.9982\n",
            "Epoch 91/100\n",
            "404/404 [==============================] - 1s 3ms/step - loss: 17.1468 - mae: 3.0299 - val_loss: 29.6999 - val_mae: 3.6097\n",
            "Epoch 92/100\n",
            "404/404 [==============================] - 1s 3ms/step - loss: 17.1086 - mae: 2.9139 - val_loss: 27.6661 - val_mae: 3.5535\n",
            "Epoch 93/100\n",
            "404/404 [==============================] - 2s 4ms/step - loss: 16.4529 - mae: 2.9512 - val_loss: 32.6800 - val_mae: 3.8164\n",
            "Epoch 94/100\n",
            "404/404 [==============================] - 2s 4ms/step - loss: 17.8173 - mae: 2.9789 - val_loss: 28.3732 - val_mae: 3.5747\n",
            "Epoch 95/100\n",
            "404/404 [==============================] - 1s 3ms/step - loss: 16.1718 - mae: 2.8416 - val_loss: 37.8483 - val_mae: 4.3040\n",
            "Epoch 96/100\n",
            "404/404 [==============================] - 1s 3ms/step - loss: 17.1033 - mae: 2.8964 - val_loss: 29.2317 - val_mae: 3.7948\n",
            "Epoch 97/100\n",
            "404/404 [==============================] - 1s 2ms/step - loss: 17.4002 - mae: 2.8926 - val_loss: 30.3434 - val_mae: 3.6404\n",
            "Epoch 98/100\n",
            "404/404 [==============================] - 1s 3ms/step - loss: 16.0637 - mae: 2.8801 - val_loss: 33.0682 - val_mae: 4.0290\n",
            "Epoch 99/100\n",
            "404/404 [==============================] - 1s 3ms/step - loss: 17.2660 - mae: 2.9134 - val_loss: 31.3525 - val_mae: 3.8193\n",
            "Epoch 100/100\n",
            "404/404 [==============================] - 1s 3ms/step - loss: 15.2186 - mae: 2.7438 - val_loss: 38.1602 - val_mae: 4.3345\n"
          ]
        }
      ]
    },
    {
      "cell_type": "code",
      "source": [
        "test_input=[\n",
        "    [\n",
        "      8.65407330e-05,\n",
        "      0.00000000e+00, \n",
        "      1.13392175e-02,\n",
        "      0.00000000e-00,\n",
        "      1.12518247e-03,\n",
        "      1.31897603e-02,\n",
        "      7.53763011e-02,\n",
        "      1.30768051e-02,\n",
        "      1.09241016e-02,\n",
        "      4.89399752e-01,\n",
        "      4.41333705e-02,\n",
        "      8.67155186e-01,\n",
        "      1.75004108e-02\n",
        "    ]\n",
        "]\n",
        "print(\"Actual Output : 21.1\")\n",
        "print(\"Predicted output :\", model.predict(test_input))"
      ],
      "metadata": {
        "colab": {
          "base_uri": "https://localhost:8080/"
        },
        "id": "lSw5Zav6ZAqm",
        "outputId": "01534266-de36-4c8c-dcf8-f8ced6627ff4"
      },
      "execution_count": null,
      "outputs": [
        {
          "output_type": "stream",
          "name": "stdout",
          "text": [
            "Actual Output : 21.1\n",
            "1/1 [==============================] - 0s 151ms/step\n",
            "Predicted output : [[21.638943]]\n"
          ]
        }
      ]
    }
  ]
}