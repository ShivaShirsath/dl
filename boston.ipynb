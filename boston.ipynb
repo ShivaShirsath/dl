{
  "nbformat": 4,
  "nbformat_minor": 0,
  "metadata": {
    "colab": {
      "provenance": []
    },
    "kernelspec": {
      "name": "python3",
      "display_name": "Python 3"
    },
    "language_info": {
      "name": "python"
    }
  },
  "cells": [
    {
      "cell_type": "code",
      "execution_count": 11,
      "metadata": {
        "id": "UEPn3CnKOaEs"
      },
      "outputs": [],
      "source": [
        "import tensorflow as tf\n",
        "from tensorflow.keras.datasets import boston_housing\n",
        "from sklearn import preprocessing"
      ]
    },
    {
      "cell_type": "code",
      "source": [
        "(train_x, train_y),(test_x, test_y)=boston_housing.load_data()"
      ],
      "metadata": {
        "colab": {
          "base_uri": "https://localhost:8080/"
        },
        "id": "jqnOO8NmOjoa",
        "outputId": "91cf5df9-2ef4-41ba-bbd6-99291c90d399"
      },
      "execution_count": 12,
      "outputs": [
        {
          "output_type": "stream",
          "name": "stdout",
          "text": [
            "Downloading data from https://storage.googleapis.com/tensorflow/tf-keras-datasets/boston_housing.npz\n",
            "57026/57026 [==============================] - 0s 0us/step\n"
          ]
        }
      ]
    },
    {
      "cell_type": "code",
      "source": [
        "print(\"       Train Shape :\", train_x.shape)\n",
        "print(\"        Test Shape :\", test_x.shape)\n",
        "print(\"Actual Train Shape :\", train_y.shape)\n",
        "print(\"Actual  Test Shape :\", test_y.shape)"
      ],
      "metadata": {
        "colab": {
          "base_uri": "https://localhost:8080/"
        },
        "id": "XNGkaXdZOkuI",
        "outputId": "841f374c-6f29-423b-fd00-219c451f03b1"
      },
      "execution_count": 13,
      "outputs": [
        {
          "output_type": "stream",
          "name": "stdout",
          "text": [
            "       Train Shape : (404, 13)\n",
            "        Test Shape : (102, 13)\n",
            "Actual Train Shape : (404,)\n",
            "Actual  Test Shape : (102,)\n"
          ]
        }
      ]
    },
    {
      "cell_type": "code",
      "source": [
        "print(train_x[0], train_y[0], sep=\"\\n\")"
      ],
      "metadata": {
        "colab": {
          "base_uri": "https://localhost:8080/"
        },
        "id": "VYMDE6KQOtyI",
        "outputId": "94cdcc74-21f0-4b38-d0fd-555d70c6b678"
      },
      "execution_count": 16,
      "outputs": [
        {
          "output_type": "stream",
          "name": "stdout",
          "text": [
            "[  1.23247   0.        8.14      0.        0.538     6.142    91.7\n",
            "   3.9769    4.      307.       21.      396.9      18.72   ]\n",
            "15.2\n"
          ]
        }
      ]
    },
    {
      "cell_type": "code",
      "source": [
        "train_x=preprocessing.normalize(train_x)\n",
        "test_x=preprocessing.normalize(test_x)"
      ],
      "metadata": {
        "id": "3sypHDVRWaI3"
      },
      "execution_count": 17,
      "outputs": []
    },
    {
      "cell_type": "code",
      "source": [
        "print(train_x[0], train_y[0], sep=\"\\n\")"
      ],
      "metadata": {
        "colab": {
          "base_uri": "https://localhost:8080/"
        },
        "id": "-fMwtEkMW6Jf",
        "outputId": "a7a3713b-4ba6-44b2-f0c5-ba009ccb14dc"
      },
      "execution_count": 18,
      "outputs": [
        {
          "output_type": "stream",
          "name": "stdout",
          "text": [
            "[0.0024119  0.         0.01592969 0.         0.00105285 0.01201967\n",
            " 0.17945359 0.00778265 0.00782786 0.6007879  0.04109624 0.77671895\n",
            " 0.03663436]\n",
            "15.2\n"
          ]
        }
      ]
    },
    {
      "cell_type": "code",
      "source": [
        "from tensorflow.keras.models import Sequential\n",
        "from tensorflow.keras.layers import *"
      ],
      "metadata": {
        "id": "QI36wcpCXAcf"
      },
      "execution_count": 19,
      "outputs": []
    },
    {
      "cell_type": "code",
      "source": [
        "def HousePricePredictionModel():\n",
        "  model=Sequential()\n",
        "  model.add(Dense(128, activation='relu', input_shape=(train_x[0].shape)))\n",
        "  model.add(Dense(64, activation='relu'))\n",
        "  model.add(Dense(32, activation='relu'))\n",
        "  model.add(Dense(1))\n",
        "  model.compile(optimizer='rmsprop', loss='mse', metrics=['mae'])\n",
        "  return model"
      ],
      "metadata": {
        "id": "A4sV0LwiXYi4"
      },
      "execution_count": 20,
      "outputs": []
    },
    {
      "cell_type": "code",
      "source": [
        "import numpy as np\n",
        "k=4\n",
        "num_val_samples=len(train_x)\n",
        "num_epochs=100\n",
        "all_scores=[]"
      ],
      "metadata": {
        "id": "O_GW-VnRYTBw"
      },
      "execution_count": 21,
      "outputs": []
    },
    {
      "cell_type": "code",
      "source": [
        "model=HousePricePredictionModel()\n",
        "history=model.fit(x=train_x, y=train_y, epochs=num_epochs, batch_size=1, verbose=1, validation_data=(test_x, test_y))"
      ],
      "metadata": {
        "colab": {
          "base_uri": "https://localhost:8080/"
        },
        "id": "2g5WvvOxYk7m",
        "outputId": "dd54f1e8-e6fd-4a7d-e2c6-684505120b8b"
      },
      "execution_count": 22,
      "outputs": [
        {
          "output_type": "stream",
          "name": "stdout",
          "text": [
            "Epoch 1/100\n",
            "404/404 [==============================] - 3s 4ms/step - loss: 122.3268 - mae: 7.8299 - val_loss: 67.5090 - val_mae: 5.8464\n",
            "Epoch 2/100\n",
            "404/404 [==============================] - 1s 2ms/step - loss: 66.0978 - mae: 5.6269 - val_loss: 57.5367 - val_mae: 5.6067\n",
            "Epoch 3/100\n",
            "404/404 [==============================] - 1s 3ms/step - loss: 64.1293 - mae: 5.5147 - val_loss: 55.7012 - val_mae: 5.4792\n",
            "Epoch 4/100\n",
            "404/404 [==============================] - 1s 3ms/step - loss: 60.7600 - mae: 5.2930 - val_loss: 60.6967 - val_mae: 6.0695\n",
            "Epoch 5/100\n",
            "404/404 [==============================] - 1s 3ms/step - loss: 58.4754 - mae: 5.1885 - val_loss: 53.1855 - val_mae: 5.3050\n",
            "Epoch 6/100\n",
            "404/404 [==============================] - 1s 2ms/step - loss: 56.3125 - mae: 5.1230 - val_loss: 52.0523 - val_mae: 5.2123\n",
            "Epoch 7/100\n",
            "404/404 [==============================] - 1s 2ms/step - loss: 54.3604 - mae: 4.9507 - val_loss: 51.9047 - val_mae: 5.1191\n",
            "Epoch 8/100\n",
            "404/404 [==============================] - 1s 2ms/step - loss: 53.1740 - mae: 4.9647 - val_loss: 48.7033 - val_mae: 5.0575\n",
            "Epoch 9/100\n",
            "404/404 [==============================] - 1s 2ms/step - loss: 52.0036 - mae: 4.8127 - val_loss: 51.9386 - val_mae: 5.5042\n",
            "Epoch 10/100\n",
            "404/404 [==============================] - 1s 3ms/step - loss: 50.0940 - mae: 4.8437 - val_loss: 47.5401 - val_mae: 4.8235\n",
            "Epoch 11/100\n",
            "404/404 [==============================] - 1s 2ms/step - loss: 47.8320 - mae: 4.6564 - val_loss: 53.6055 - val_mae: 5.1227\n",
            "Epoch 12/100\n",
            "404/404 [==============================] - 1s 3ms/step - loss: 47.1660 - mae: 4.6552 - val_loss: 51.8719 - val_mae: 5.0292\n",
            "Epoch 13/100\n",
            "404/404 [==============================] - 1s 3ms/step - loss: 45.3341 - mae: 4.6291 - val_loss: 41.7315 - val_mae: 4.5097\n",
            "Epoch 14/100\n",
            "404/404 [==============================] - 1s 3ms/step - loss: 42.9757 - mae: 4.4530 - val_loss: 38.8738 - val_mae: 4.4484\n",
            "Epoch 15/100\n",
            "404/404 [==============================] - 1s 3ms/step - loss: 41.4422 - mae: 4.4032 - val_loss: 38.5479 - val_mae: 4.3259\n",
            "Epoch 16/100\n",
            "404/404 [==============================] - 2s 4ms/step - loss: 39.9396 - mae: 4.3266 - val_loss: 35.5777 - val_mae: 4.1468\n",
            "Epoch 17/100\n",
            "404/404 [==============================] - 4s 9ms/step - loss: 37.6931 - mae: 4.2759 - val_loss: 38.9902 - val_mae: 4.2752\n",
            "Epoch 18/100\n",
            "404/404 [==============================] - 1s 2ms/step - loss: 37.4589 - mae: 4.3904 - val_loss: 39.1117 - val_mae: 4.2685\n",
            "Epoch 19/100\n",
            "404/404 [==============================] - 1s 2ms/step - loss: 35.0125 - mae: 4.2887 - val_loss: 34.9559 - val_mae: 4.0860\n",
            "Epoch 20/100\n",
            "404/404 [==============================] - 1s 2ms/step - loss: 36.7871 - mae: 4.2339 - val_loss: 31.7652 - val_mae: 3.9361\n",
            "Epoch 21/100\n",
            "404/404 [==============================] - 1s 2ms/step - loss: 35.7447 - mae: 4.2141 - val_loss: 34.2763 - val_mae: 4.0326\n",
            "Epoch 22/100\n",
            "404/404 [==============================] - 1s 2ms/step - loss: 33.8248 - mae: 4.1413 - val_loss: 40.2170 - val_mae: 4.3727\n",
            "Epoch 23/100\n",
            "404/404 [==============================] - 1s 2ms/step - loss: 32.8432 - mae: 4.0365 - val_loss: 31.0631 - val_mae: 3.9277\n",
            "Epoch 24/100\n",
            "404/404 [==============================] - 1s 2ms/step - loss: 31.3773 - mae: 4.0348 - val_loss: 39.8563 - val_mae: 4.3014\n",
            "Epoch 25/100\n",
            "404/404 [==============================] - 1s 2ms/step - loss: 33.1339 - mae: 3.9963 - val_loss: 28.8326 - val_mae: 3.7894\n",
            "Epoch 26/100\n",
            "404/404 [==============================] - 1s 2ms/step - loss: 31.0881 - mae: 3.9664 - val_loss: 31.6260 - val_mae: 3.8787\n",
            "Epoch 27/100\n",
            "404/404 [==============================] - 1s 2ms/step - loss: 30.1186 - mae: 3.8466 - val_loss: 40.4591 - val_mae: 4.5335\n",
            "Epoch 28/100\n",
            "404/404 [==============================] - 1s 2ms/step - loss: 30.1828 - mae: 3.8665 - val_loss: 30.7991 - val_mae: 3.8477\n",
            "Epoch 29/100\n",
            "404/404 [==============================] - 1s 3ms/step - loss: 28.7373 - mae: 3.8019 - val_loss: 29.1220 - val_mae: 3.8108\n",
            "Epoch 30/100\n",
            "404/404 [==============================] - 1s 3ms/step - loss: 28.5384 - mae: 3.8006 - val_loss: 28.0528 - val_mae: 3.7633\n",
            "Epoch 31/100\n",
            "404/404 [==============================] - 1s 2ms/step - loss: 27.7690 - mae: 3.7337 - val_loss: 34.8406 - val_mae: 4.1880\n",
            "Epoch 32/100\n",
            "404/404 [==============================] - 1s 2ms/step - loss: 26.6384 - mae: 3.6934 - val_loss: 25.7434 - val_mae: 3.7128\n",
            "Epoch 33/100\n",
            "404/404 [==============================] - 1s 2ms/step - loss: 26.1698 - mae: 3.7049 - val_loss: 29.8864 - val_mae: 4.3859\n",
            "Epoch 34/100\n",
            "404/404 [==============================] - 1s 2ms/step - loss: 25.3190 - mae: 3.5901 - val_loss: 25.7453 - val_mae: 3.6540\n",
            "Epoch 35/100\n",
            "404/404 [==============================] - 1s 2ms/step - loss: 25.4151 - mae: 3.5880 - val_loss: 27.3997 - val_mae: 3.7333\n",
            "Epoch 36/100\n",
            "404/404 [==============================] - 1s 2ms/step - loss: 24.9044 - mae: 3.5789 - val_loss: 27.4607 - val_mae: 3.7278\n",
            "Epoch 37/100\n",
            "404/404 [==============================] - 1s 2ms/step - loss: 23.4010 - mae: 3.4669 - val_loss: 26.6294 - val_mae: 3.7077\n",
            "Epoch 38/100\n",
            "404/404 [==============================] - 1s 2ms/step - loss: 23.7487 - mae: 3.4635 - val_loss: 26.2943 - val_mae: 3.6620\n",
            "Epoch 39/100\n",
            "404/404 [==============================] - 1s 2ms/step - loss: 22.6020 - mae: 3.4240 - val_loss: 31.3348 - val_mae: 3.9846\n",
            "Epoch 40/100\n",
            "404/404 [==============================] - 1s 2ms/step - loss: 22.1586 - mae: 3.4546 - val_loss: 27.7378 - val_mae: 3.8355\n",
            "Epoch 41/100\n",
            "404/404 [==============================] - 1s 2ms/step - loss: 22.4876 - mae: 3.3435 - val_loss: 26.2254 - val_mae: 3.7230\n",
            "Epoch 42/100\n",
            "404/404 [==============================] - 1s 3ms/step - loss: 21.6890 - mae: 3.3320 - val_loss: 29.7115 - val_mae: 3.8477\n",
            "Epoch 43/100\n",
            "404/404 [==============================] - 1s 4ms/step - loss: 22.1409 - mae: 3.3782 - val_loss: 30.3384 - val_mae: 3.8788\n",
            "Epoch 44/100\n",
            "404/404 [==============================] - 1s 3ms/step - loss: 20.5382 - mae: 3.2758 - val_loss: 27.1626 - val_mae: 3.7347\n",
            "Epoch 45/100\n",
            "404/404 [==============================] - 1s 2ms/step - loss: 20.8710 - mae: 3.3075 - val_loss: 26.8255 - val_mae: 3.7633\n",
            "Epoch 46/100\n",
            "404/404 [==============================] - 1s 2ms/step - loss: 20.9476 - mae: 3.3416 - val_loss: 25.2772 - val_mae: 3.5738\n",
            "Epoch 47/100\n",
            "404/404 [==============================] - 1s 2ms/step - loss: 20.3854 - mae: 3.2983 - val_loss: 26.8508 - val_mae: 3.8470\n",
            "Epoch 48/100\n",
            "404/404 [==============================] - 1s 2ms/step - loss: 21.0193 - mae: 3.2958 - val_loss: 35.2754 - val_mae: 4.1976\n",
            "Epoch 49/100\n",
            "404/404 [==============================] - 1s 2ms/step - loss: 20.8590 - mae: 3.2925 - val_loss: 27.9344 - val_mae: 3.7519\n",
            "Epoch 50/100\n",
            "404/404 [==============================] - 1s 2ms/step - loss: 19.3228 - mae: 3.1048 - val_loss: 29.1745 - val_mae: 3.7795\n",
            "Epoch 51/100\n",
            "404/404 [==============================] - 1s 2ms/step - loss: 18.6646 - mae: 3.0830 - val_loss: 26.4962 - val_mae: 3.7187\n",
            "Epoch 52/100\n",
            "404/404 [==============================] - 1s 2ms/step - loss: 19.5846 - mae: 3.1067 - val_loss: 27.1749 - val_mae: 3.6724\n",
            "Epoch 53/100\n",
            "404/404 [==============================] - 1s 2ms/step - loss: 19.7435 - mae: 3.1631 - val_loss: 37.2991 - val_mae: 4.5484\n",
            "Epoch 54/100\n",
            "404/404 [==============================] - 1s 2ms/step - loss: 19.9651 - mae: 3.2401 - val_loss: 27.0394 - val_mae: 3.5582\n",
            "Epoch 55/100\n",
            "404/404 [==============================] - 1s 2ms/step - loss: 18.8986 - mae: 3.0930 - val_loss: 27.5557 - val_mae: 3.6355\n",
            "Epoch 56/100\n",
            "404/404 [==============================] - 1s 3ms/step - loss: 19.8383 - mae: 3.1832 - val_loss: 28.2089 - val_mae: 3.6250\n",
            "Epoch 57/100\n",
            "404/404 [==============================] - 1s 4ms/step - loss: 18.9156 - mae: 3.0408 - val_loss: 28.4830 - val_mae: 3.6734\n",
            "Epoch 58/100\n",
            "404/404 [==============================] - 1s 2ms/step - loss: 18.4118 - mae: 3.0207 - val_loss: 27.3245 - val_mae: 3.6094\n",
            "Epoch 59/100\n",
            "404/404 [==============================] - 1s 2ms/step - loss: 18.7216 - mae: 3.0853 - val_loss: 27.7080 - val_mae: 3.6496\n",
            "Epoch 60/100\n",
            "404/404 [==============================] - 1s 2ms/step - loss: 18.8145 - mae: 3.1418 - val_loss: 31.4251 - val_mae: 3.8753\n",
            "Epoch 61/100\n",
            "404/404 [==============================] - 1s 2ms/step - loss: 18.8839 - mae: 3.0910 - val_loss: 29.7292 - val_mae: 3.7321\n",
            "Epoch 62/100\n",
            "404/404 [==============================] - 1s 2ms/step - loss: 17.1270 - mae: 3.0605 - val_loss: 31.0756 - val_mae: 3.9857\n",
            "Epoch 63/100\n",
            "404/404 [==============================] - 1s 2ms/step - loss: 20.0170 - mae: 3.1048 - val_loss: 29.8286 - val_mae: 3.6645\n",
            "Epoch 64/100\n",
            "404/404 [==============================] - 1s 2ms/step - loss: 18.4733 - mae: 3.1042 - val_loss: 37.7758 - val_mae: 4.3234\n",
            "Epoch 65/100\n",
            "404/404 [==============================] - 1s 2ms/step - loss: 19.4576 - mae: 3.0827 - val_loss: 32.2420 - val_mae: 3.8529\n",
            "Epoch 66/100\n",
            "404/404 [==============================] - 1s 2ms/step - loss: 19.2263 - mae: 3.0979 - val_loss: 29.5524 - val_mae: 3.7160\n",
            "Epoch 67/100\n",
            "404/404 [==============================] - 1s 2ms/step - loss: 16.7722 - mae: 2.9270 - val_loss: 26.0068 - val_mae: 3.5557\n",
            "Epoch 68/100\n",
            "404/404 [==============================] - 1s 2ms/step - loss: 17.7877 - mae: 3.0129 - val_loss: 33.2196 - val_mae: 3.8978\n",
            "Epoch 69/100\n",
            "404/404 [==============================] - 1s 3ms/step - loss: 18.6243 - mae: 3.0903 - val_loss: 33.7138 - val_mae: 3.9044\n",
            "Epoch 70/100\n",
            "404/404 [==============================] - 1s 3ms/step - loss: 17.2040 - mae: 3.0325 - val_loss: 30.8752 - val_mae: 3.9728\n",
            "Epoch 71/100\n",
            "404/404 [==============================] - 1s 3ms/step - loss: 18.4928 - mae: 3.0692 - val_loss: 33.8180 - val_mae: 3.9872\n",
            "Epoch 72/100\n",
            "404/404 [==============================] - 1s 3ms/step - loss: 18.5709 - mae: 3.1243 - val_loss: 32.1727 - val_mae: 4.2408\n",
            "Epoch 73/100\n",
            "404/404 [==============================] - 1s 2ms/step - loss: 17.8108 - mae: 3.1510 - val_loss: 32.5292 - val_mae: 3.9168\n",
            "Epoch 74/100\n",
            "404/404 [==============================] - 1s 2ms/step - loss: 17.1635 - mae: 2.9138 - val_loss: 40.2900 - val_mae: 4.3864\n",
            "Epoch 75/100\n",
            "404/404 [==============================] - 1s 2ms/step - loss: 18.4230 - mae: 3.0620 - val_loss: 36.3212 - val_mae: 4.2654\n",
            "Epoch 76/100\n",
            "404/404 [==============================] - 1s 2ms/step - loss: 18.9917 - mae: 3.0738 - val_loss: 28.3587 - val_mae: 3.7122\n",
            "Epoch 77/100\n",
            "404/404 [==============================] - 1s 2ms/step - loss: 17.6487 - mae: 2.9420 - val_loss: 26.5825 - val_mae: 3.5876\n",
            "Epoch 78/100\n",
            "404/404 [==============================] - 1s 2ms/step - loss: 17.3790 - mae: 3.0263 - val_loss: 29.6067 - val_mae: 3.6174\n",
            "Epoch 79/100\n",
            "404/404 [==============================] - 1s 2ms/step - loss: 17.9696 - mae: 3.0843 - val_loss: 28.2303 - val_mae: 3.5522\n",
            "Epoch 80/100\n",
            "404/404 [==============================] - 1s 2ms/step - loss: 17.9985 - mae: 2.9881 - val_loss: 33.7779 - val_mae: 4.1779\n",
            "Epoch 81/100\n",
            "404/404 [==============================] - 1s 2ms/step - loss: 18.8030 - mae: 3.0813 - val_loss: 29.9720 - val_mae: 3.6976\n",
            "Epoch 82/100\n",
            "404/404 [==============================] - 1s 3ms/step - loss: 17.1570 - mae: 2.9127 - val_loss: 30.1897 - val_mae: 3.6810\n",
            "Epoch 83/100\n",
            "404/404 [==============================] - 1s 3ms/step - loss: 17.7707 - mae: 3.0154 - val_loss: 37.4031 - val_mae: 4.3445\n",
            "Epoch 84/100\n",
            "404/404 [==============================] - 1s 2ms/step - loss: 17.4940 - mae: 2.9331 - val_loss: 32.1489 - val_mae: 3.9136\n",
            "Epoch 85/100\n",
            "404/404 [==============================] - 1s 2ms/step - loss: 15.1486 - mae: 2.8577 - val_loss: 31.5168 - val_mae: 3.9041\n",
            "Epoch 86/100\n",
            "404/404 [==============================] - 1s 2ms/step - loss: 16.3559 - mae: 2.8922 - val_loss: 28.1785 - val_mae: 3.6568\n",
            "Epoch 87/100\n",
            "404/404 [==============================] - 1s 2ms/step - loss: 18.4789 - mae: 2.9826 - val_loss: 29.4791 - val_mae: 3.6140\n",
            "Epoch 88/100\n",
            "404/404 [==============================] - 1s 2ms/step - loss: 16.7641 - mae: 2.8941 - val_loss: 38.7171 - val_mae: 4.4199\n",
            "Epoch 89/100\n",
            "404/404 [==============================] - 1s 2ms/step - loss: 17.3774 - mae: 2.9612 - val_loss: 26.6505 - val_mae: 3.5242\n",
            "Epoch 90/100\n",
            "404/404 [==============================] - 1s 2ms/step - loss: 16.7614 - mae: 2.8942 - val_loss: 29.4204 - val_mae: 3.5708\n",
            "Epoch 91/100\n",
            "404/404 [==============================] - 1s 2ms/step - loss: 16.2870 - mae: 2.8100 - val_loss: 36.7256 - val_mae: 4.5849\n",
            "Epoch 92/100\n",
            "404/404 [==============================] - 1s 2ms/step - loss: 16.9066 - mae: 2.8822 - val_loss: 29.0961 - val_mae: 3.7384\n",
            "Epoch 93/100\n",
            "404/404 [==============================] - 1s 2ms/step - loss: 16.3508 - mae: 2.9646 - val_loss: 27.4854 - val_mae: 3.5265\n",
            "Epoch 94/100\n",
            "404/404 [==============================] - 1s 2ms/step - loss: 15.7754 - mae: 2.8253 - val_loss: 29.9193 - val_mae: 3.5921\n",
            "Epoch 95/100\n",
            "404/404 [==============================] - 1s 3ms/step - loss: 17.2346 - mae: 2.9672 - val_loss: 27.1641 - val_mae: 3.6229\n",
            "Epoch 96/100\n",
            "404/404 [==============================] - 1s 3ms/step - loss: 15.9116 - mae: 2.8690 - val_loss: 27.8544 - val_mae: 3.5729\n",
            "Epoch 97/100\n",
            "404/404 [==============================] - 1s 2ms/step - loss: 15.6965 - mae: 2.7983 - val_loss: 57.2549 - val_mae: 5.1127\n",
            "Epoch 98/100\n",
            "404/404 [==============================] - 1s 2ms/step - loss: 16.8475 - mae: 2.9147 - val_loss: 28.8626 - val_mae: 3.6042\n",
            "Epoch 99/100\n",
            "404/404 [==============================] - 1s 2ms/step - loss: 17.4907 - mae: 2.8989 - val_loss: 26.1745 - val_mae: 3.4827\n",
            "Epoch 100/100\n",
            "404/404 [==============================] - 1s 2ms/step - loss: 16.6615 - mae: 2.9151 - val_loss: 28.0252 - val_mae: 3.5066\n"
          ]
        }
      ]
    },
    {
      "cell_type": "code",
      "source": [
        "test_input=[\n",
        "    [\n",
        "      8.65407330e-05,\n",
        "      0.00000000e+00,\n",
        "      1.13392175e-02,\n",
        "      0.00000000e+00,\n",
        "      1.12518247e-03,\n",
        "      0.31897603e-02,\n",
        "      8.53763011e-02,\n",
        "      1.30768051e-02,\n",
        "      0.09241016e-02,\n",
        "      1.53763011e-02,\n",
        "      0.30768051e-02,\n",
        "      4.89399752e-01,\n",
        "      2.41333742e-02\n",
        "    ]\n",
        "]\n",
        "print(\"Actual Output : 21.1\")\n",
        "print(\"Predicted output :\", model.predict(test_input))"
      ],
      "metadata": {
        "colab": {
          "base_uri": "https://localhost:8080/"
        },
        "id": "lSw5Zav6ZAqm",
        "outputId": "804fc195-5f5d-4325-d70e-f12854b96b77"
      },
      "execution_count": 31,
      "outputs": [
        {
          "output_type": "stream",
          "name": "stdout",
          "text": [
            "Actual Output : 21.1\n",
            "1/1 [==============================] - 0s 53ms/step\n",
            "Predicted output : [[24.467382]]\n"
          ]
        }
      ]
    }
  ]
}